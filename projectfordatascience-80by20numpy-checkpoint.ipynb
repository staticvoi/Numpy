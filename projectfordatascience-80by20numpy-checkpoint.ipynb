{
 "cells": [
  {
   "cell_type": "code",
   "execution_count": 2,
   "id": "a7154d74",
   "metadata": {},
   "outputs": [],
   "source": [
    "import numpy as np\n",
    "from sklearn.datasets import load_wine"
   ]
  },
  {
   "cell_type": "code",
   "execution_count": 36,
   "id": "96cef3e3",
   "metadata": {},
   "outputs": [],
   "source": [
    "np.array?  #doc string"
   ]
  },
  {
   "cell_type": "code",
   "execution_count": 3,
   "id": "cdac3c44",
   "metadata": {},
   "outputs": [],
   "source": [
    "data = load_wine()"
   ]
  },
  {
   "cell_type": "code",
   "execution_count": 6,
   "id": "e45ca70d",
   "metadata": {},
   "outputs": [
    {
     "data": {
      "text/plain": [
       "array([[1.423e+01, 1.710e+00, 2.430e+00, ..., 1.040e+00, 3.920e+00,\n",
       "        1.065e+03],\n",
       "       [1.320e+01, 1.780e+00, 2.140e+00, ..., 1.050e+00, 3.400e+00,\n",
       "        1.050e+03],\n",
       "       [1.316e+01, 2.360e+00, 2.670e+00, ..., 1.030e+00, 3.170e+00,\n",
       "        1.185e+03],\n",
       "       ...,\n",
       "       [1.327e+01, 4.280e+00, 2.260e+00, ..., 5.900e-01, 1.560e+00,\n",
       "        8.350e+02],\n",
       "       [1.317e+01, 2.590e+00, 2.370e+00, ..., 6.000e-01, 1.620e+00,\n",
       "        8.400e+02],\n",
       "       [1.413e+01, 4.100e+00, 2.740e+00, ..., 6.100e-01, 1.600e+00,\n",
       "        5.600e+02]])"
      ]
     },
     "execution_count": 6,
     "metadata": {},
     "output_type": "execute_result"
    }
   ],
   "source": [
    "wine_arr = data[\"data\"]\n",
    "wine_arr"
   ]
  },
  {
   "cell_type": "code",
   "execution_count": 5,
   "id": "769c69d2",
   "metadata": {},
   "outputs": [
    {
     "data": {
      "text/plain": [
       "array([1.423e+01, 1.710e+00, 2.430e+00, 1.560e+01, 1.270e+02, 2.800e+00,\n",
       "       3.060e+00, 2.800e-01, 2.290e+00, 5.640e+00, 1.040e+00, 3.920e+00,\n",
       "       1.065e+03])"
      ]
     },
     "execution_count": 5,
     "metadata": {},
     "output_type": "execute_result"
    }
   ],
   "source": [
    "wine_arr[0]   #13 values which are feature names"
   ]
  },
  {
   "cell_type": "code",
   "execution_count": 47,
   "id": "47216fa3",
   "metadata": {},
   "outputs": [
    {
     "data": {
      "text/plain": [
       "['alcohol',\n",
       " 'malic_acid',\n",
       " 'ash',\n",
       " 'alcalinity_of_ash',\n",
       " 'magnesium',\n",
       " 'total_phenols',\n",
       " 'flavanoids',\n",
       " 'nonflavanoid_phenols',\n",
       " 'proanthocyanins',\n",
       " 'color_intensity',\n",
       " 'hue',\n",
       " 'od280/od315_of_diluted_wines',\n",
       " 'proline']"
      ]
     },
     "execution_count": 47,
     "metadata": {},
     "output_type": "execute_result"
    }
   ],
   "source": [
    "feature_names= data[\"feature_names\"]\n",
    "feature_names"
   ]
  },
  {
   "cell_type": "code",
   "execution_count": 9,
   "id": "9f9ca6be",
   "metadata": {},
   "outputs": [
    {
     "data": {
      "text/plain": [
       "(178, 13)"
      ]
     },
     "execution_count": 9,
     "metadata": {},
     "output_type": "execute_result"
    }
   ],
   "source": [
    "wine_arr.shape"
   ]
  },
  {
   "cell_type": "code",
   "execution_count": 10,
   "id": "62f50e15",
   "metadata": {},
   "outputs": [
    {
     "data": {
      "text/plain": [
       "array([14.23, 13.2 , 13.16, 14.37, 13.24, 14.2 , 14.39, 14.06, 14.83,\n",
       "       13.86, 14.1 , 14.12, 13.75, 14.75, 14.38, 13.63, 14.3 , 13.83,\n",
       "       14.19, 13.64, 14.06, 12.93, 13.71, 12.85, 13.5 , 13.05, 13.39,\n",
       "       13.3 , 13.87, 14.02, 13.73, 13.58, 13.68, 13.76, 13.51, 13.48,\n",
       "       13.28, 13.05, 13.07, 14.22, 13.56, 13.41, 13.88, 13.24, 13.05,\n",
       "       14.21, 14.38, 13.9 , 14.1 , 13.94, 13.05, 13.83, 13.82, 13.77,\n",
       "       13.74, 13.56, 14.22, 13.29, 13.72, 12.37, 12.33, 12.64, 13.67,\n",
       "       12.37, 12.17, 12.37, 13.11, 12.37, 13.34, 12.21, 12.29, 13.86,\n",
       "       13.49, 12.99, 11.96, 11.66, 13.03, 11.84, 12.33, 12.7 , 12.  ,\n",
       "       12.72, 12.08, 13.05, 11.84, 12.67, 12.16, 11.65, 11.64, 12.08,\n",
       "       12.08, 12.  , 12.69, 12.29, 11.62, 12.47, 11.81, 12.29, 12.37,\n",
       "       12.29, 12.08, 12.6 , 12.34, 11.82, 12.51, 12.42, 12.25, 12.72,\n",
       "       12.22, 11.61, 11.46, 12.52, 11.76, 11.41, 12.08, 11.03, 11.82,\n",
       "       12.42, 12.77, 12.  , 11.45, 11.56, 12.42, 13.05, 11.87, 12.07,\n",
       "       12.43, 11.79, 12.37, 12.04, 12.86, 12.88, 12.81, 12.7 , 12.51,\n",
       "       12.6 , 12.25, 12.53, 13.49, 12.84, 12.93, 13.36, 13.52, 13.62,\n",
       "       12.25, 13.16, 13.88, 12.87, 13.32, 13.08, 13.5 , 12.79, 13.11,\n",
       "       13.23, 12.58, 13.17, 13.84, 12.45, 14.34, 13.48, 12.36, 13.69,\n",
       "       12.85, 12.96, 13.78, 13.73, 13.45, 12.82, 13.58, 13.4 , 12.2 ,\n",
       "       12.77, 14.16, 13.71, 13.4 , 13.27, 13.17, 14.13])"
      ]
     },
     "execution_count": 10,
     "metadata": {},
     "output_type": "execute_result"
    }
   ],
   "source": [
    "wine_arr[:,0]  #: all rows and 0=first col"
   ]
  },
  {
   "cell_type": "code",
   "execution_count": 11,
   "id": "29843387",
   "metadata": {},
   "outputs": [
    {
     "data": {
      "text/plain": [
       "array([[ 14.23, 127.  ],\n",
       "       [ 13.2 , 100.  ],\n",
       "       [ 13.16, 101.  ],\n",
       "       [ 14.37, 113.  ],\n",
       "       [ 13.24, 118.  ],\n",
       "       [ 14.2 , 112.  ],\n",
       "       [ 14.39,  96.  ],\n",
       "       [ 14.06, 121.  ],\n",
       "       [ 14.83,  97.  ],\n",
       "       [ 13.86,  98.  ],\n",
       "       [ 14.1 , 105.  ],\n",
       "       [ 14.12,  95.  ],\n",
       "       [ 13.75,  89.  ],\n",
       "       [ 14.75,  91.  ],\n",
       "       [ 14.38, 102.  ],\n",
       "       [ 13.63, 112.  ],\n",
       "       [ 14.3 , 120.  ],\n",
       "       [ 13.83, 115.  ],\n",
       "       [ 14.19, 108.  ],\n",
       "       [ 13.64, 116.  ],\n",
       "       [ 14.06, 126.  ],\n",
       "       [ 12.93, 102.  ],\n",
       "       [ 13.71, 101.  ],\n",
       "       [ 12.85,  95.  ],\n",
       "       [ 13.5 ,  96.  ],\n",
       "       [ 13.05, 124.  ],\n",
       "       [ 13.39,  93.  ],\n",
       "       [ 13.3 ,  94.  ],\n",
       "       [ 13.87, 107.  ],\n",
       "       [ 14.02,  96.  ],\n",
       "       [ 13.73, 101.  ],\n",
       "       [ 13.58, 106.  ],\n",
       "       [ 13.68, 104.  ],\n",
       "       [ 13.76, 132.  ],\n",
       "       [ 13.51, 110.  ],\n",
       "       [ 13.48, 100.  ],\n",
       "       [ 13.28, 110.  ],\n",
       "       [ 13.05,  98.  ],\n",
       "       [ 13.07,  98.  ],\n",
       "       [ 14.22, 128.  ],\n",
       "       [ 13.56, 117.  ],\n",
       "       [ 13.41,  90.  ],\n",
       "       [ 13.88, 101.  ],\n",
       "       [ 13.24, 103.  ],\n",
       "       [ 13.05, 107.  ],\n",
       "       [ 14.21, 111.  ],\n",
       "       [ 14.38, 102.  ],\n",
       "       [ 13.9 , 101.  ],\n",
       "       [ 14.1 , 103.  ],\n",
       "       [ 13.94, 108.  ],\n",
       "       [ 13.05,  92.  ],\n",
       "       [ 13.83,  94.  ],\n",
       "       [ 13.82, 111.  ],\n",
       "       [ 13.77, 115.  ],\n",
       "       [ 13.74, 118.  ],\n",
       "       [ 13.56, 116.  ],\n",
       "       [ 14.22, 118.  ],\n",
       "       [ 13.29, 102.  ],\n",
       "       [ 13.72, 108.  ],\n",
       "       [ 12.37,  88.  ],\n",
       "       [ 12.33, 101.  ],\n",
       "       [ 12.64, 100.  ],\n",
       "       [ 13.67,  94.  ],\n",
       "       [ 12.37,  87.  ],\n",
       "       [ 12.17, 104.  ],\n",
       "       [ 12.37,  98.  ],\n",
       "       [ 13.11,  78.  ],\n",
       "       [ 12.37,  78.  ],\n",
       "       [ 13.34, 110.  ],\n",
       "       [ 12.21, 151.  ],\n",
       "       [ 12.29, 103.  ],\n",
       "       [ 13.86,  86.  ],\n",
       "       [ 13.49,  87.  ],\n",
       "       [ 12.99, 139.  ],\n",
       "       [ 11.96, 101.  ],\n",
       "       [ 11.66,  97.  ],\n",
       "       [ 13.03,  86.  ],\n",
       "       [ 11.84, 112.  ],\n",
       "       [ 12.33, 136.  ],\n",
       "       [ 12.7 , 101.  ],\n",
       "       [ 12.  ,  86.  ],\n",
       "       [ 12.72,  86.  ],\n",
       "       [ 12.08,  78.  ],\n",
       "       [ 13.05,  85.  ],\n",
       "       [ 11.84,  94.  ],\n",
       "       [ 12.67,  99.  ],\n",
       "       [ 12.16,  90.  ],\n",
       "       [ 11.65,  88.  ],\n",
       "       [ 11.64,  84.  ],\n",
       "       [ 12.08,  70.  ],\n",
       "       [ 12.08,  81.  ],\n",
       "       [ 12.  ,  86.  ],\n",
       "       [ 12.69,  80.  ],\n",
       "       [ 12.29,  88.  ],\n",
       "       [ 11.62,  98.  ],\n",
       "       [ 12.47, 162.  ],\n",
       "       [ 11.81, 134.  ],\n",
       "       [ 12.29,  85.  ],\n",
       "       [ 12.37,  88.  ],\n",
       "       [ 12.29,  88.  ],\n",
       "       [ 12.08,  97.  ],\n",
       "       [ 12.6 ,  88.  ],\n",
       "       [ 12.34,  98.  ],\n",
       "       [ 11.82,  86.  ],\n",
       "       [ 12.51,  85.  ],\n",
       "       [ 12.42,  90.  ],\n",
       "       [ 12.25,  80.  ],\n",
       "       [ 12.72,  84.  ],\n",
       "       [ 12.22,  92.  ],\n",
       "       [ 11.61,  94.  ],\n",
       "       [ 11.46, 107.  ],\n",
       "       [ 12.52,  88.  ],\n",
       "       [ 11.76, 103.  ],\n",
       "       [ 11.41,  88.  ],\n",
       "       [ 12.08,  84.  ],\n",
       "       [ 11.03,  85.  ],\n",
       "       [ 11.82,  86.  ],\n",
       "       [ 12.42, 108.  ],\n",
       "       [ 12.77,  80.  ],\n",
       "       [ 12.  ,  87.  ],\n",
       "       [ 11.45,  96.  ],\n",
       "       [ 11.56, 119.  ],\n",
       "       [ 12.42, 102.  ],\n",
       "       [ 13.05,  86.  ],\n",
       "       [ 11.87,  82.  ],\n",
       "       [ 12.07,  85.  ],\n",
       "       [ 12.43,  86.  ],\n",
       "       [ 11.79,  92.  ],\n",
       "       [ 12.37,  88.  ],\n",
       "       [ 12.04,  80.  ],\n",
       "       [ 12.86, 122.  ],\n",
       "       [ 12.88, 104.  ],\n",
       "       [ 12.81,  98.  ],\n",
       "       [ 12.7 , 106.  ],\n",
       "       [ 12.51,  85.  ],\n",
       "       [ 12.6 ,  94.  ],\n",
       "       [ 12.25,  89.  ],\n",
       "       [ 12.53,  96.  ],\n",
       "       [ 13.49,  88.  ],\n",
       "       [ 12.84, 101.  ],\n",
       "       [ 12.93,  96.  ],\n",
       "       [ 13.36,  89.  ],\n",
       "       [ 13.52,  97.  ],\n",
       "       [ 13.62,  92.  ],\n",
       "       [ 12.25, 112.  ],\n",
       "       [ 13.16, 102.  ],\n",
       "       [ 13.88,  80.  ],\n",
       "       [ 12.87,  86.  ],\n",
       "       [ 13.32,  92.  ],\n",
       "       [ 13.08, 113.  ],\n",
       "       [ 13.5 , 123.  ],\n",
       "       [ 12.79, 112.  ],\n",
       "       [ 13.11, 116.  ],\n",
       "       [ 13.23,  98.  ],\n",
       "       [ 12.58, 103.  ],\n",
       "       [ 13.17,  93.  ],\n",
       "       [ 13.84,  89.  ],\n",
       "       [ 12.45,  97.  ],\n",
       "       [ 14.34,  98.  ],\n",
       "       [ 13.48,  89.  ],\n",
       "       [ 12.36,  88.  ],\n",
       "       [ 13.69, 107.  ],\n",
       "       [ 12.85, 106.  ],\n",
       "       [ 12.96, 106.  ],\n",
       "       [ 13.78,  90.  ],\n",
       "       [ 13.73,  88.  ],\n",
       "       [ 13.45, 111.  ],\n",
       "       [ 12.82,  88.  ],\n",
       "       [ 13.58, 105.  ],\n",
       "       [ 13.4 , 112.  ],\n",
       "       [ 12.2 ,  96.  ],\n",
       "       [ 12.77,  86.  ],\n",
       "       [ 14.16,  91.  ],\n",
       "       [ 13.71,  95.  ],\n",
       "       [ 13.4 , 102.  ],\n",
       "       [ 13.27, 120.  ],\n",
       "       [ 13.17, 120.  ],\n",
       "       [ 14.13,  96.  ]])"
      ]
     },
     "execution_count": 11,
     "metadata": {},
     "output_type": "execute_result"
    }
   ],
   "source": [
    "wine_arr[:,(0,4)] #0 and 4th col\n"
   ]
  },
  {
   "cell_type": "code",
   "execution_count": 12,
   "id": "0b0c779a",
   "metadata": {},
   "outputs": [
    {
     "data": {
      "text/plain": [
       "array([[ 14.23, 127.  ],\n",
       "       [ 13.2 , 100.  ],\n",
       "       [ 13.16, 101.  ],\n",
       "       [ 14.37, 113.  ],\n",
       "       [ 13.24, 118.  ],\n",
       "       [ 14.2 , 112.  ],\n",
       "       [ 14.39,  96.  ],\n",
       "       [ 14.06, 121.  ],\n",
       "       [ 14.83,  97.  ],\n",
       "       [ 13.86,  98.  ]])"
      ]
     },
     "execution_count": 12,
     "metadata": {},
     "output_type": "execute_result"
    }
   ],
   "source": [
    "wine_arr[:10, (0,4)]  #first 10rows and 0,4th cols"
   ]
  },
  {
   "cell_type": "code",
   "execution_count": 13,
   "id": "60a6286d",
   "metadata": {},
   "outputs": [
    {
     "data": {
      "text/plain": [
       "array([[ 14.23, 127.  ],\n",
       "       [ 13.16, 101.  ],\n",
       "       [ 13.24, 118.  ],\n",
       "       [ 14.39,  96.  ],\n",
       "       [ 14.83,  97.  ],\n",
       "       [ 14.1 , 105.  ],\n",
       "       [ 13.75,  89.  ],\n",
       "       [ 14.38, 102.  ],\n",
       "       [ 14.3 , 120.  ],\n",
       "       [ 14.19, 108.  ],\n",
       "       [ 14.06, 126.  ],\n",
       "       [ 13.71, 101.  ],\n",
       "       [ 13.5 ,  96.  ],\n",
       "       [ 13.39,  93.  ],\n",
       "       [ 13.87, 107.  ],\n",
       "       [ 13.73, 101.  ],\n",
       "       [ 13.68, 104.  ],\n",
       "       [ 13.51, 110.  ],\n",
       "       [ 13.28, 110.  ],\n",
       "       [ 13.07,  98.  ],\n",
       "       [ 13.56, 117.  ],\n",
       "       [ 13.88, 101.  ],\n",
       "       [ 13.05, 107.  ],\n",
       "       [ 14.38, 102.  ],\n",
       "       [ 14.1 , 103.  ],\n",
       "       [ 13.05,  92.  ],\n",
       "       [ 13.82, 111.  ],\n",
       "       [ 13.74, 118.  ],\n",
       "       [ 14.22, 118.  ],\n",
       "       [ 13.72, 108.  ],\n",
       "       [ 12.33, 101.  ],\n",
       "       [ 13.67,  94.  ],\n",
       "       [ 12.17, 104.  ],\n",
       "       [ 13.11,  78.  ],\n",
       "       [ 13.34, 110.  ],\n",
       "       [ 12.29, 103.  ],\n",
       "       [ 13.49,  87.  ],\n",
       "       [ 11.96, 101.  ],\n",
       "       [ 13.03,  86.  ],\n",
       "       [ 12.33, 136.  ],\n",
       "       [ 12.  ,  86.  ],\n",
       "       [ 12.08,  78.  ],\n",
       "       [ 11.84,  94.  ],\n",
       "       [ 12.16,  90.  ],\n",
       "       [ 11.64,  84.  ],\n",
       "       [ 12.08,  81.  ],\n",
       "       [ 12.69,  80.  ],\n",
       "       [ 11.62,  98.  ],\n",
       "       [ 11.81, 134.  ],\n",
       "       [ 12.37,  88.  ],\n",
       "       [ 12.08,  97.  ],\n",
       "       [ 12.34,  98.  ],\n",
       "       [ 12.51,  85.  ],\n",
       "       [ 12.25,  80.  ],\n",
       "       [ 12.22,  92.  ],\n",
       "       [ 11.46, 107.  ],\n",
       "       [ 11.76, 103.  ],\n",
       "       [ 12.08,  84.  ],\n",
       "       [ 11.82,  86.  ],\n",
       "       [ 12.77,  80.  ],\n",
       "       [ 11.45,  96.  ],\n",
       "       [ 12.42, 102.  ],\n",
       "       [ 11.87,  82.  ],\n",
       "       [ 12.43,  86.  ],\n",
       "       [ 12.37,  88.  ],\n",
       "       [ 12.86, 122.  ],\n",
       "       [ 12.81,  98.  ],\n",
       "       [ 12.51,  85.  ],\n",
       "       [ 12.25,  89.  ],\n",
       "       [ 13.49,  88.  ],\n",
       "       [ 12.93,  96.  ],\n",
       "       [ 13.52,  97.  ],\n",
       "       [ 12.25, 112.  ],\n",
       "       [ 13.88,  80.  ],\n",
       "       [ 13.32,  92.  ],\n",
       "       [ 13.5 , 123.  ],\n",
       "       [ 13.11, 116.  ],\n",
       "       [ 12.58, 103.  ],\n",
       "       [ 13.84,  89.  ],\n",
       "       [ 14.34,  98.  ],\n",
       "       [ 12.36,  88.  ],\n",
       "       [ 12.85, 106.  ],\n",
       "       [ 13.78,  90.  ],\n",
       "       [ 13.45, 111.  ],\n",
       "       [ 13.58, 105.  ],\n",
       "       [ 12.2 ,  96.  ],\n",
       "       [ 14.16,  91.  ],\n",
       "       [ 13.4 , 102.  ],\n",
       "       [ 13.17, 120.  ]])"
      ]
     },
     "execution_count": 13,
     "metadata": {},
     "output_type": "execute_result"
    }
   ],
   "source": [
    "wine_arr[::2, (0,4)]   #first start:end:step rows and 0,4th cols\n",
    "                        #here ::2 means step is 2 and all rows"
   ]
  },
  {
   "cell_type": "code",
   "execution_count": 14,
   "id": "d58e6079",
   "metadata": {},
   "outputs": [
    {
     "data": {
      "text/plain": [
       "array([14.23, 13.2 , 13.16, 14.37, 13.24, 14.2 , 14.39, 14.06, 14.83,\n",
       "       13.86, 14.1 , 14.12, 13.75, 14.75, 14.38, 13.63, 14.3 , 13.83,\n",
       "       14.19, 13.64, 14.06, 12.93, 13.71, 12.85, 13.5 , 13.05, 13.39,\n",
       "       13.3 , 13.87, 14.02, 13.73, 13.58, 13.68, 13.76, 13.51, 13.48,\n",
       "       13.28, 13.05, 13.07, 14.22, 13.56, 13.41, 13.88, 13.24, 13.05,\n",
       "       14.21, 14.38, 13.9 , 14.1 , 13.94, 13.05, 13.83, 13.82, 13.77,\n",
       "       13.74, 13.56, 14.22, 13.29, 13.72, 12.37, 12.33, 12.64, 13.67,\n",
       "       12.37, 12.17, 12.37, 13.11, 12.37, 13.34, 12.21, 12.29, 13.86,\n",
       "       13.49, 12.99, 11.96, 11.66, 13.03, 11.84, 12.33, 12.7 , 12.  ,\n",
       "       12.72, 12.08, 13.05, 11.84, 12.67, 12.16, 11.65, 11.64, 12.08,\n",
       "       12.08, 12.  , 12.69, 12.29, 11.62, 12.47, 11.81, 12.29, 12.37,\n",
       "       12.29, 12.08, 12.6 , 12.34, 11.82, 12.51, 12.42, 12.25, 12.72,\n",
       "       12.22, 11.61, 11.46, 12.52, 11.76, 11.41, 12.08, 11.03, 11.82,\n",
       "       12.42, 12.77, 12.  , 11.45, 11.56, 12.42, 13.05, 11.87, 12.07,\n",
       "       12.43, 11.79, 12.37, 12.04, 12.86, 12.88, 12.81, 12.7 , 12.51,\n",
       "       12.6 , 12.25, 12.53, 13.49, 12.84, 12.93, 13.36, 13.52, 13.62,\n",
       "       12.25, 13.16, 13.88, 12.87, 13.32, 13.08, 13.5 , 12.79, 13.11,\n",
       "       13.23, 12.58, 13.17, 13.84, 12.45, 14.34, 13.48, 12.36, 13.69,\n",
       "       12.85, 12.96, 13.78, 13.73, 13.45, 12.82, 13.58, 13.4 , 12.2 ,\n",
       "       12.77, 14.16, 13.71, 13.4 , 13.27, 13.17, 14.13])"
      ]
     },
     "execution_count": 14,
     "metadata": {},
     "output_type": "execute_result"
    }
   ],
   "source": [
    "alcohol = wine_arr[:,0]\n",
    "alcohol"
   ]
  },
  {
   "cell_type": "code",
   "execution_count": 15,
   "id": "fd12ea9a",
   "metadata": {},
   "outputs": [
    {
     "data": {
      "text/plain": [
       "13.00061797752809"
      ]
     },
     "execution_count": 15,
     "metadata": {},
     "output_type": "execute_result"
    }
   ],
   "source": [
    "np.mean(alcohol)"
   ]
  },
  {
   "cell_type": "code",
   "execution_count": 16,
   "id": "fa43186a",
   "metadata": {},
   "outputs": [
    {
     "data": {
      "text/plain": [
       "14.83"
      ]
     },
     "execution_count": 16,
     "metadata": {},
     "output_type": "execute_result"
    }
   ],
   "source": [
    "np.max(alcohol)"
   ]
  },
  {
   "cell_type": "code",
   "execution_count": 17,
   "id": "77da7939",
   "metadata": {},
   "outputs": [
    {
     "data": {
      "text/plain": [
       "11.03"
      ]
     },
     "execution_count": 17,
     "metadata": {},
     "output_type": "execute_result"
    }
   ],
   "source": [
    "np.min(alcohol)"
   ]
  },
  {
   "cell_type": "code",
   "execution_count": 18,
   "id": "02f41066",
   "metadata": {},
   "outputs": [
    {
     "data": {
      "text/plain": [
       "0.8095429145285168"
      ]
     },
     "execution_count": 18,
     "metadata": {},
     "output_type": "execute_result"
    }
   ],
   "source": [
    "np.std(alcohol)"
   ]
  },
  {
   "cell_type": "code",
   "execution_count": 19,
   "id": "54c315c2",
   "metadata": {},
   "outputs": [
    {
     "data": {
      "text/plain": [
       "array([0, 1, 2, 3])"
      ]
     },
     "execution_count": 19,
     "metadata": {},
     "output_type": "execute_result"
    }
   ],
   "source": [
    "arr = np.arange(4)\n",
    "arr"
   ]
  },
  {
   "cell_type": "code",
   "execution_count": 20,
   "id": "5b13b440",
   "metadata": {},
   "outputs": [
    {
     "data": {
      "text/plain": [
       "array([0, 1, 4, 9], dtype=int32)"
      ]
     },
     "execution_count": 20,
     "metadata": {},
     "output_type": "execute_result"
    }
   ],
   "source": [
    "arr ** 2"
   ]
  },
  {
   "cell_type": "code",
   "execution_count": 21,
   "id": "0d98da09",
   "metadata": {},
   "outputs": [
    {
     "data": {
      "text/plain": [
       "array([0, 1, 4, 9], dtype=int32)"
      ]
     },
     "execution_count": 21,
     "metadata": {},
     "output_type": "execute_result"
    }
   ],
   "source": [
    "np.square(arr) #element wise"
   ]
  },
  {
   "cell_type": "code",
   "execution_count": null,
   "id": "d801eab4",
   "metadata": {},
   "outputs": [],
   "source": [
    "#vectorization- aggregate, fast, dot product,matrix multiplication"
   ]
  },
  {
   "cell_type": "code",
   "execution_count": 23,
   "id": "935a4fa3",
   "metadata": {},
   "outputs": [
    {
     "data": {
      "text/plain": [
       "array([False, False, False, False, False, False, False, False, False,\n",
       "       False, False, False, False, False, False, False, False, False,\n",
       "       False, False, False,  True, False,  True, False, False, False,\n",
       "       False, False, False, False, False, False, False, False, False,\n",
       "       False, False, False, False, False, False, False, False, False,\n",
       "       False, False, False, False, False, False, False, False, False,\n",
       "       False, False, False, False, False,  True,  True,  True, False,\n",
       "        True,  True,  True, False,  True, False,  True,  True, False,\n",
       "       False,  True,  True,  True, False,  True,  True,  True,  True,\n",
       "        True,  True, False,  True,  True,  True,  True,  True,  True,\n",
       "        True,  True,  True,  True,  True,  True,  True,  True,  True,\n",
       "        True,  True,  True,  True,  True,  True,  True,  True,  True,\n",
       "        True,  True,  True,  True,  True,  True,  True,  True,  True,\n",
       "        True,  True,  True,  True,  True,  True, False,  True,  True,\n",
       "        True,  True,  True,  True,  True,  True,  True,  True,  True,\n",
       "        True,  True,  True, False,  True,  True, False, False, False,\n",
       "        True, False, False,  True, False, False, False,  True, False,\n",
       "       False,  True, False, False,  True, False, False,  True, False,\n",
       "        True,  True, False, False, False,  True, False, False,  True,\n",
       "        True, False, False, False, False, False, False])"
      ]
     },
     "execution_count": 23,
     "metadata": {},
     "output_type": "execute_result"
    }
   ],
   "source": [
    "#boolean mask(filter)\n",
    "alcohol_13= alcohol<13\n",
    "alcohol_13"
   ]
  },
  {
   "cell_type": "code",
   "execution_count": 24,
   "id": "91ee33cf",
   "metadata": {},
   "outputs": [
    {
     "data": {
      "text/plain": [
       "array([[1.293e+01, 3.800e+00, 2.650e+00, ..., 1.030e+00, 3.520e+00,\n",
       "        7.700e+02],\n",
       "       [1.285e+01, 1.600e+00, 2.520e+00, ..., 1.090e+00, 3.630e+00,\n",
       "        1.015e+03],\n",
       "       [1.237e+01, 9.400e-01, 1.360e+00, ..., 1.050e+00, 1.820e+00,\n",
       "        5.200e+02],\n",
       "       ...,\n",
       "       [1.282e+01, 3.370e+00, 2.300e+00, ..., 7.200e-01, 1.750e+00,\n",
       "        6.850e+02],\n",
       "       [1.220e+01, 3.030e+00, 2.320e+00, ..., 6.600e-01, 1.830e+00,\n",
       "        5.100e+02],\n",
       "       [1.277e+01, 2.390e+00, 2.280e+00, ..., 5.700e-01, 1.630e+00,\n",
       "        4.700e+02]])"
      ]
     },
     "execution_count": 24,
     "metadata": {},
     "output_type": "execute_result"
    }
   ],
   "source": [
    "wine_arr[alcohol_13]  #all cols but rows only those alcolohol<13"
   ]
  },
  {
   "cell_type": "code",
   "execution_count": 25,
   "id": "f33e895f",
   "metadata": {},
   "outputs": [
    {
     "data": {
      "text/plain": [
       "(86, 13)"
      ]
     },
     "execution_count": 25,
     "metadata": {},
     "output_type": "execute_result"
    }
   ],
   "source": [
    "wine_arr[alcohol_13].shape"
   ]
  },
  {
   "cell_type": "code",
   "execution_count": 27,
   "id": "740e2f70",
   "metadata": {},
   "outputs": [],
   "source": [
    "magnesium = wine_arr[:,4]"
   ]
  },
  {
   "cell_type": "code",
   "execution_count": 28,
   "id": "686936c7",
   "metadata": {},
   "outputs": [
    {
     "data": {
      "text/plain": [
       "array([ True, False, False, False, False, False, False,  True, False,\n",
       "       False, False, False, False, False, False, False, False, False,\n",
       "       False, False,  True, False, False, False, False,  True, False,\n",
       "       False, False, False, False, False, False,  True, False, False,\n",
       "       False, False, False,  True, False, False, False, False, False,\n",
       "       False, False, False, False, False, False, False, False, False,\n",
       "       False, False, False, False, False, False, False, False, False,\n",
       "       False, False, False, False, False, False,  True, False, False,\n",
       "       False,  True, False, False, False, False,  True, False, False,\n",
       "       False, False, False, False, False, False, False, False, False,\n",
       "       False, False, False, False, False,  True,  True, False, False,\n",
       "       False, False, False, False, False, False, False, False, False,\n",
       "       False, False, False, False, False, False, False, False, False,\n",
       "       False, False, False, False, False, False, False, False, False,\n",
       "       False, False, False, False,  True, False, False, False, False,\n",
       "       False, False, False, False, False, False, False, False, False,\n",
       "       False, False, False, False, False, False,  True, False, False,\n",
       "       False, False, False, False, False, False, False, False, False,\n",
       "       False, False, False, False, False, False, False, False, False,\n",
       "       False, False, False, False, False, False, False])"
      ]
     },
     "execution_count": 28,
     "metadata": {},
     "output_type": "execute_result"
    }
   ],
   "source": [
    "magnesium_120 = magnesium >120\n",
    "magnesium_120"
   ]
  },
  {
   "cell_type": "code",
   "execution_count": 32,
   "id": "40b1793f",
   "metadata": {},
   "outputs": [
    {
     "data": {
      "text/plain": [
       "array([False, False, False, False, False, False, False, False, False,\n",
       "       False, False, False, False, False, False, False, False, False,\n",
       "       False, False, False, False, False, False, False, False, False,\n",
       "       False, False, False, False, False, False, False, False, False,\n",
       "       False, False, False, False, False, False, False, False, False,\n",
       "       False, False, False, False, False, False, False, False, False,\n",
       "       False, False, False, False, False, False, False, False, False,\n",
       "       False, False, False, False, False, False,  True, False, False,\n",
       "       False,  True, False, False, False, False,  True, False, False,\n",
       "       False, False, False, False, False, False, False, False, False,\n",
       "       False, False, False, False, False,  True,  True, False, False,\n",
       "       False, False, False, False, False, False, False, False, False,\n",
       "       False, False, False, False, False, False, False, False, False,\n",
       "       False, False, False, False, False, False, False, False, False,\n",
       "       False, False, False, False,  True, False, False, False, False,\n",
       "       False, False, False, False, False, False, False, False, False,\n",
       "       False, False, False, False, False, False, False, False, False,\n",
       "       False, False, False, False, False, False, False, False, False,\n",
       "       False, False, False, False, False, False, False, False, False,\n",
       "       False, False, False, False, False, False, False])"
      ]
     },
     "execution_count": 32,
     "metadata": {},
     "output_type": "execute_result"
    }
   ],
   "source": [
    "combined = alcohol_13 & magnesium_120 #and\n",
    "combined"
   ]
  },
  {
   "cell_type": "code",
   "execution_count": 34,
   "id": "156fca3f",
   "metadata": {},
   "outputs": [
    {
     "data": {
      "text/plain": [
       "array([[ 12.21, 151.  ],\n",
       "       [ 12.99, 139.  ],\n",
       "       [ 12.33, 136.  ],\n",
       "       [ 12.47, 162.  ],\n",
       "       [ 11.81, 134.  ],\n",
       "       [ 12.86, 122.  ]])"
      ]
     },
     "execution_count": 34,
     "metadata": {},
     "output_type": "execute_result"
    }
   ],
   "source": [
    "wine_arr[combined][:, (0,4)]"
   ]
  },
  {
   "cell_type": "code",
   "execution_count": 35,
   "id": "c84dab19",
   "metadata": {},
   "outputs": [
    {
     "data": {
      "text/plain": [
       "array([[ 12.21, 151.  ],\n",
       "       [ 12.99, 139.  ],\n",
       "       [ 12.33, 136.  ],\n",
       "       [ 12.47, 162.  ],\n",
       "       [ 11.81, 134.  ],\n",
       "       [ 12.86, 122.  ]])"
      ]
     },
     "execution_count": 35,
     "metadata": {},
     "output_type": "execute_result"
    }
   ],
   "source": [
    "wine_arr[(alcohol_13 & magnesium_120)][:,(0,4)]"
   ]
  },
  {
   "cell_type": "code",
   "execution_count": null,
   "id": "58104446",
   "metadata": {},
   "outputs": [],
   "source": [
    "np.where?"
   ]
  },
  {
   "cell_type": "code",
   "execution_count": 37,
   "id": "21fbb48a",
   "metadata": {},
   "outputs": [
    {
     "data": {
      "text/plain": [
       "array(['high alcohol', 'high alcohol', 'high alcohol', 'high alcohol',\n",
       "       'high alcohol', 'high alcohol', 'high alcohol', 'high alcohol',\n",
       "       'high alcohol', 'high alcohol', 'high alcohol', 'high alcohol',\n",
       "       'high alcohol', 'high alcohol', 'high alcohol', 'high alcohol',\n",
       "       'high alcohol', 'high alcohol', 'high alcohol', 'high alcohol',\n",
       "       'high alcohol', 'high alcohol', 'high alcohol', 'high alcohol',\n",
       "       'high alcohol', 'high alcohol', 'high alcohol', 'high alcohol',\n",
       "       'high alcohol', 'high alcohol', 'high alcohol', 'high alcohol',\n",
       "       'high alcohol', 'high alcohol', 'high alcohol', 'high alcohol',\n",
       "       'high alcohol', 'high alcohol', 'high alcohol', 'high alcohol',\n",
       "       'high alcohol', 'high alcohol', 'high alcohol', 'high alcohol',\n",
       "       'high alcohol', 'high alcohol', 'high alcohol', 'high alcohol',\n",
       "       'high alcohol', 'high alcohol', 'high alcohol', 'high alcohol',\n",
       "       'high alcohol', 'high alcohol', 'high alcohol', 'high alcohol',\n",
       "       'high alcohol', 'high alcohol', 'high alcohol', 'high alcohol',\n",
       "       'high alcohol', 'high alcohol', 'high alcohol', 'high alcohol',\n",
       "       'high alcohol', 'high alcohol', 'high alcohol', 'high alcohol',\n",
       "       'high alcohol', 'high alcohol', 'high alcohol', 'high alcohol',\n",
       "       'high alcohol', 'high alcohol', 'low alcolhol', 'low alcolhol',\n",
       "       'high alcohol', 'low alcolhol', 'high alcohol', 'high alcohol',\n",
       "       'high alcohol', 'high alcohol', 'high alcohol', 'high alcohol',\n",
       "       'low alcolhol', 'high alcohol', 'high alcohol', 'low alcolhol',\n",
       "       'low alcolhol', 'high alcohol', 'high alcohol', 'high alcohol',\n",
       "       'high alcohol', 'high alcohol', 'low alcolhol', 'high alcohol',\n",
       "       'low alcolhol', 'high alcohol', 'high alcohol', 'high alcohol',\n",
       "       'high alcohol', 'high alcohol', 'high alcohol', 'low alcolhol',\n",
       "       'high alcohol', 'high alcohol', 'high alcohol', 'high alcohol',\n",
       "       'high alcohol', 'low alcolhol', 'low alcolhol', 'high alcohol',\n",
       "       'low alcolhol', 'low alcolhol', 'high alcohol', 'low alcolhol',\n",
       "       'low alcolhol', 'high alcohol', 'high alcohol', 'high alcohol',\n",
       "       'low alcolhol', 'low alcolhol', 'high alcohol', 'high alcohol',\n",
       "       'low alcolhol', 'high alcohol', 'high alcohol', 'low alcolhol',\n",
       "       'high alcohol', 'high alcohol', 'high alcohol', 'high alcohol',\n",
       "       'high alcohol', 'high alcohol', 'high alcohol', 'high alcohol',\n",
       "       'high alcohol', 'high alcohol', 'high alcohol', 'high alcohol',\n",
       "       'high alcohol', 'high alcohol', 'high alcohol', 'high alcohol',\n",
       "       'high alcohol', 'high alcohol', 'high alcohol', 'high alcohol',\n",
       "       'high alcohol', 'high alcohol', 'high alcohol', 'high alcohol',\n",
       "       'high alcohol', 'high alcohol', 'high alcohol', 'high alcohol',\n",
       "       'high alcohol', 'high alcohol', 'high alcohol', 'high alcohol',\n",
       "       'high alcohol', 'high alcohol', 'high alcohol', 'high alcohol',\n",
       "       'high alcohol', 'high alcohol', 'high alcohol', 'high alcohol',\n",
       "       'high alcohol', 'high alcohol', 'high alcohol', 'high alcohol',\n",
       "       'high alcohol', 'high alcohol', 'high alcohol', 'high alcohol',\n",
       "       'high alcohol', 'high alcohol'], dtype='<U12')"
      ]
     },
     "execution_count": 37,
     "metadata": {},
     "output_type": "execute_result"
    }
   ],
   "source": [
    "np.where(alcohol<12,\"low alcolhol\",\"high alcohol\")"
   ]
  },
  {
   "cell_type": "code",
   "execution_count": 38,
   "id": "1e51ea54",
   "metadata": {},
   "outputs": [
    {
     "data": {
      "text/plain": [
       "array(['high alcohol', 'medium', 'medium', 'high alcohol', 'medium',\n",
       "       'high alcohol', 'high alcohol', 'high alcohol', 'high alcohol',\n",
       "       'medium', 'high alcohol', 'high alcohol', 'medium', 'high alcohol',\n",
       "       'high alcohol', 'medium', 'high alcohol', 'medium', 'high alcohol',\n",
       "       'medium', 'high alcohol', 'medium', 'medium', 'medium', 'medium',\n",
       "       'medium', 'medium', 'medium', 'medium', 'high alcohol', 'medium',\n",
       "       'medium', 'medium', 'medium', 'medium', 'medium', 'medium',\n",
       "       'medium', 'medium', 'high alcohol', 'medium', 'medium', 'medium',\n",
       "       'medium', 'medium', 'high alcohol', 'high alcohol', 'medium',\n",
       "       'high alcohol', 'medium', 'medium', 'medium', 'medium', 'medium',\n",
       "       'medium', 'medium', 'high alcohol', 'medium', 'medium', 'medium',\n",
       "       'medium', 'medium', 'medium', 'medium', 'medium', 'medium',\n",
       "       'medium', 'medium', 'medium', 'medium', 'medium', 'medium',\n",
       "       'medium', 'medium', 'low alcolhol', 'low alcolhol', 'medium',\n",
       "       'low alcolhol', 'medium', 'medium', 'medium', 'medium', 'medium',\n",
       "       'medium', 'low alcolhol', 'medium', 'medium', 'low alcolhol',\n",
       "       'low alcolhol', 'medium', 'medium', 'medium', 'medium', 'medium',\n",
       "       'low alcolhol', 'medium', 'low alcolhol', 'medium', 'medium',\n",
       "       'medium', 'medium', 'medium', 'medium', 'low alcolhol', 'medium',\n",
       "       'medium', 'medium', 'medium', 'medium', 'low alcolhol',\n",
       "       'low alcolhol', 'medium', 'low alcolhol', 'low alcolhol', 'medium',\n",
       "       'low alcolhol', 'low alcolhol', 'medium', 'medium', 'medium',\n",
       "       'low alcolhol', 'low alcolhol', 'medium', 'medium', 'low alcolhol',\n",
       "       'medium', 'medium', 'low alcolhol', 'medium', 'medium', 'medium',\n",
       "       'medium', 'medium', 'medium', 'medium', 'medium', 'medium',\n",
       "       'medium', 'medium', 'medium', 'medium', 'medium', 'medium',\n",
       "       'medium', 'medium', 'medium', 'medium', 'medium', 'medium',\n",
       "       'medium', 'medium', 'medium', 'medium', 'medium', 'medium',\n",
       "       'medium', 'medium', 'medium', 'high alcohol', 'medium', 'medium',\n",
       "       'medium', 'medium', 'medium', 'medium', 'medium', 'medium',\n",
       "       'medium', 'medium', 'medium', 'medium', 'medium', 'high alcohol',\n",
       "       'medium', 'medium', 'medium', 'medium', 'high alcohol'],\n",
       "      dtype='<U12')"
      ]
     },
     "execution_count": 38,
     "metadata": {},
     "output_type": "execute_result"
    }
   ],
   "source": [
    "np.where(alcohol<12,\"low alcolhol\", np.where(alcohol>14,\"high alcohol\",\"medium\"))"
   ]
  },
  {
   "cell_type": "code",
   "execution_count": 39,
   "id": "092cfaa7",
   "metadata": {},
   "outputs": [
    {
     "data": {
      "text/plain": [
       "array([11.03, 11.41, 11.45, 11.46, 11.56, 11.61, 11.62, 11.64, 11.65,\n",
       "       11.66, 11.76, 11.79, 11.81, 11.82, 11.82, 11.84, 11.84, 11.87,\n",
       "       11.96, 12.  , 12.  , 12.  , 12.04, 12.07, 12.08, 12.08, 12.08,\n",
       "       12.08, 12.08, 12.16, 12.17, 12.2 , 12.21, 12.22, 12.25, 12.25,\n",
       "       12.25, 12.29, 12.29, 12.29, 12.29, 12.33, 12.33, 12.34, 12.36,\n",
       "       12.37, 12.37, 12.37, 12.37, 12.37, 12.37, 12.42, 12.42, 12.42,\n",
       "       12.43, 12.45, 12.47, 12.51, 12.51, 12.52, 12.53, 12.58, 12.6 ,\n",
       "       12.6 , 12.64, 12.67, 12.69, 12.7 , 12.7 , 12.72, 12.72, 12.77,\n",
       "       12.77, 12.79, 12.81, 12.82, 12.84, 12.85, 12.85, 12.86, 12.87,\n",
       "       12.88, 12.93, 12.93, 12.96, 12.99, 13.03, 13.05, 13.05, 13.05,\n",
       "       13.05, 13.05, 13.05, 13.07, 13.08, 13.11, 13.11, 13.16, 13.16,\n",
       "       13.17, 13.17, 13.2 , 13.23, 13.24, 13.24, 13.27, 13.28, 13.29,\n",
       "       13.3 , 13.32, 13.34, 13.36, 13.39, 13.4 , 13.4 , 13.41, 13.45,\n",
       "       13.48, 13.48, 13.49, 13.49, 13.5 , 13.5 , 13.51, 13.52, 13.56,\n",
       "       13.56, 13.58, 13.58, 13.62, 13.63, 13.64, 13.67, 13.68, 13.69,\n",
       "       13.71, 13.71, 13.72, 13.73, 13.73, 13.74, 13.75, 13.76, 13.77,\n",
       "       13.78, 13.82, 13.83, 13.83, 13.84, 13.86, 13.86, 13.87, 13.88,\n",
       "       13.88, 13.9 , 13.94, 14.02, 14.06, 14.06, 14.1 , 14.1 , 14.12,\n",
       "       14.13, 14.16, 14.19, 14.2 , 14.21, 14.22, 14.22, 14.23, 14.3 ,\n",
       "       14.34, 14.37, 14.38, 14.38, 14.39, 14.75, 14.83])"
      ]
     },
     "execution_count": 39,
     "metadata": {},
     "output_type": "execute_result"
    }
   ],
   "source": [
    "np.sort(alcohol)     #ascending"
   ]
  },
  {
   "cell_type": "code",
   "execution_count": 40,
   "id": "4ee1fcd1",
   "metadata": {},
   "outputs": [
    {
     "data": {
      "text/plain": [
       "array([14.83, 14.75, 14.39, 14.38, 14.38, 14.37, 14.34, 14.3 , 14.23,\n",
       "       14.22, 14.22, 14.21, 14.2 , 14.19, 14.16, 14.13, 14.12, 14.1 ,\n",
       "       14.1 , 14.06, 14.06, 14.02, 13.94, 13.9 , 13.88, 13.88, 13.87,\n",
       "       13.86, 13.86, 13.84, 13.83, 13.83, 13.82, 13.78, 13.77, 13.76,\n",
       "       13.75, 13.74, 13.73, 13.73, 13.72, 13.71, 13.71, 13.69, 13.68,\n",
       "       13.67, 13.64, 13.63, 13.62, 13.58, 13.58, 13.56, 13.56, 13.52,\n",
       "       13.51, 13.5 , 13.5 , 13.49, 13.49, 13.48, 13.48, 13.45, 13.41,\n",
       "       13.4 , 13.4 , 13.39, 13.36, 13.34, 13.32, 13.3 , 13.29, 13.28,\n",
       "       13.27, 13.24, 13.24, 13.23, 13.2 , 13.17, 13.17, 13.16, 13.16,\n",
       "       13.11, 13.11, 13.08, 13.07, 13.05, 13.05, 13.05, 13.05, 13.05,\n",
       "       13.05, 13.03, 12.99, 12.96, 12.93, 12.93, 12.88, 12.87, 12.86,\n",
       "       12.85, 12.85, 12.84, 12.82, 12.81, 12.79, 12.77, 12.77, 12.72,\n",
       "       12.72, 12.7 , 12.7 , 12.69, 12.67, 12.64, 12.6 , 12.6 , 12.58,\n",
       "       12.53, 12.52, 12.51, 12.51, 12.47, 12.45, 12.43, 12.42, 12.42,\n",
       "       12.42, 12.37, 12.37, 12.37, 12.37, 12.37, 12.37, 12.36, 12.34,\n",
       "       12.33, 12.33, 12.29, 12.29, 12.29, 12.29, 12.25, 12.25, 12.25,\n",
       "       12.22, 12.21, 12.2 , 12.17, 12.16, 12.08, 12.08, 12.08, 12.08,\n",
       "       12.08, 12.07, 12.04, 12.  , 12.  , 12.  , 11.96, 11.87, 11.84,\n",
       "       11.84, 11.82, 11.82, 11.81, 11.79, 11.76, 11.66, 11.65, 11.64,\n",
       "       11.62, 11.61, 11.56, 11.46, 11.45, 11.41, 11.03])"
      ]
     },
     "execution_count": 40,
     "metadata": {},
     "output_type": "execute_result"
    }
   ],
   "source": [
    "np.sort(alcohol)[::-1]   #descending "
   ]
  },
  {
   "cell_type": "code",
   "execution_count": null,
   "id": "10429670",
   "metadata": {},
   "outputs": [],
   "source": [
    "np.argsort?"
   ]
  },
  {
   "cell_type": "code",
   "execution_count": 41,
   "id": "f077bfef",
   "metadata": {},
   "outputs": [
    {
     "data": {
      "text/plain": [
       "array([115, 113, 120, 110, 121, 109,  94,  88,  87,  75, 112, 127,  96,\n",
       "       103, 116,  84,  77, 124,  74, 119,  91,  80, 129, 125,  82, 114,\n",
       "        89,  90, 100,  86,  64, 170,  69, 108, 144, 136, 106,  97,  70,\n",
       "        93,  99,  60,  78, 102, 160,  67,  65,  63,  98, 128,  59, 105,\n",
       "       122, 117, 126, 157,  95, 104, 134, 111, 137, 154, 135, 101,  61,\n",
       "        85,  92,  79, 133, 107,  81, 171, 118, 151, 132, 167, 139,  23,\n",
       "       162, 130, 147, 131,  21, 140, 163,  73,  76, 123,  44,  25,  83,\n",
       "        37,  50,  38, 149,  66, 152, 145,   2, 176, 155,   1, 153,   4,\n",
       "        43, 175,  36,  57,  27, 148,  68, 141,  26, 174, 169,  41, 166,\n",
       "       159,  35, 138,  72, 150,  24,  34, 142,  55,  40,  31, 168, 143,\n",
       "        15,  19,  62,  32, 161,  22, 173,  58,  30, 165,  54,  12,  33,\n",
       "        53, 164,  52,  51,  17, 156,  71,   9,  28,  42, 146,  47,  49,\n",
       "        29,  20,   7,  48,  10,  11, 177, 172,  18,   5,  45,  56,  39,\n",
       "         0,  16, 158,   3,  46,  14,   6,  13,   8], dtype=int64)"
      ]
     },
     "execution_count": 41,
     "metadata": {},
     "output_type": "execute_result"
    }
   ],
   "source": [
    "np.argsort(alcohol)    #sort index instead of data"
   ]
  },
  {
   "cell_type": "code",
   "execution_count": 42,
   "id": "7b513178",
   "metadata": {},
   "outputs": [
    {
     "data": {
      "text/plain": [
       "array([  8,  13,   6,  14,  46,   3, 158,  16,   0,  39,  56,  45,   5,\n",
       "        18, 172, 177,  11,  10,  48,   7,  20,  29,  49,  47, 146,  42,\n",
       "        28,   9,  71, 156,  17,  51,  52, 164,  53,  33,  12,  54, 165,\n",
       "        30,  58, 173,  22, 161,  32,  62,  19,  15, 143, 168,  31,  40,\n",
       "        55, 142,  34,  24, 150,  72, 138,  35, 159, 166,  41, 169, 174,\n",
       "        26, 141,  68, 148,  27,  57,  36, 175,  43,   4, 153,   1, 155,\n",
       "       176,   2, 145, 152,  66, 149,  38,  50,  37,  83,  25,  44, 123,\n",
       "        76,  73, 163, 140,  21, 131, 147, 130, 162,  23, 139, 167, 132,\n",
       "       151, 118, 171,  81, 107, 133,  79,  92,  85,  61, 101, 135, 154,\n",
       "       137, 111, 134, 104,  95, 157, 126, 117, 122, 105,  59, 128,  98,\n",
       "        63,  65,  67, 160, 102,  78,  60,  99,  93,  70,  97, 106, 136,\n",
       "       144, 108,  69, 170,  64,  86, 100,  90,  89, 114,  82, 125, 129,\n",
       "        80,  91, 119,  74, 124,  77,  84, 116, 103,  96, 127, 112,  75,\n",
       "        87,  88,  94, 109, 121, 110, 120, 113, 115], dtype=int64)"
      ]
     },
     "execution_count": 42,
     "metadata": {},
     "output_type": "execute_result"
    }
   ],
   "source": [
    "ind = np.argsort(alcohol)[::-1] #sort in desc\n",
    "ind"
   ]
  },
  {
   "cell_type": "code",
   "execution_count": 46,
   "id": "4cb51b2d",
   "metadata": {},
   "outputs": [
    {
     "data": {
      "text/plain": [
       "array([[14.83,  1.64,  2.17],\n",
       "       [14.75,  1.73,  2.39],\n",
       "       [14.39,  1.87,  2.45],\n",
       "       [14.38,  1.87,  2.38],\n",
       "       [14.38,  3.59,  2.28],\n",
       "       [14.37,  1.95,  2.5 ],\n",
       "       [14.34,  1.68,  2.7 ],\n",
       "       [14.3 ,  1.92,  2.72],\n",
       "       [14.23,  1.71,  2.43],\n",
       "       [14.22,  3.99,  2.51],\n",
       "       [14.22,  1.7 ,  2.3 ],\n",
       "       [14.21,  4.04,  2.44],\n",
       "       [14.2 ,  1.76,  2.45],\n",
       "       [14.19,  1.59,  2.48],\n",
       "       [14.16,  2.51,  2.48],\n",
       "       [14.13,  4.1 ,  2.74],\n",
       "       [14.12,  1.48,  2.32],\n",
       "       [14.1 ,  2.16,  2.3 ],\n",
       "       [14.1 ,  2.02,  2.4 ],\n",
       "       [14.06,  2.15,  2.61],\n",
       "       [14.06,  1.63,  2.28],\n",
       "       [14.02,  1.68,  2.21],\n",
       "       [13.94,  1.73,  2.27],\n",
       "       [13.9 ,  1.68,  2.12],\n",
       "       [13.88,  5.04,  2.23],\n",
       "       [13.88,  1.89,  2.59],\n",
       "       [13.87,  1.9 ,  2.8 ],\n",
       "       [13.86,  1.35,  2.27],\n",
       "       [13.86,  1.51,  2.67],\n",
       "       [13.84,  4.12,  2.38],\n",
       "       [13.83,  1.57,  2.62],\n",
       "       [13.83,  1.65,  2.6 ],\n",
       "       [13.82,  1.75,  2.42],\n",
       "       [13.78,  2.76,  2.3 ],\n",
       "       [13.77,  1.9 ,  2.68],\n",
       "       [13.76,  1.53,  2.7 ],\n",
       "       [13.75,  1.73,  2.41],\n",
       "       [13.74,  1.67,  2.25],\n",
       "       [13.73,  4.36,  2.26],\n",
       "       [13.73,  1.5 ,  2.7 ],\n",
       "       [13.72,  1.43,  2.5 ],\n",
       "       [13.71,  5.65,  2.45],\n",
       "       [13.71,  1.86,  2.36],\n",
       "       [13.69,  3.26,  2.54],\n",
       "       [13.68,  1.83,  2.36],\n",
       "       [13.67,  1.25,  1.92],\n",
       "       [13.64,  3.1 ,  2.56],\n",
       "       [13.63,  1.81,  2.7 ],\n",
       "       [13.62,  4.95,  2.35],\n",
       "       [13.58,  2.58,  2.69],\n",
       "       [13.58,  1.66,  2.36],\n",
       "       [13.56,  1.71,  2.31],\n",
       "       [13.56,  1.73,  2.46],\n",
       "       [13.52,  3.17,  2.72],\n",
       "       [13.51,  1.8 ,  2.65],\n",
       "       [13.5 ,  1.81,  2.61],\n",
       "       [13.5 ,  3.12,  2.62],\n",
       "       [13.49,  1.66,  2.24],\n",
       "       [13.49,  3.59,  2.19],\n",
       "       [13.48,  1.81,  2.41],\n",
       "       [13.48,  1.67,  2.64],\n",
       "       [13.45,  3.7 ,  2.6 ],\n",
       "       [13.41,  3.84,  2.12],\n",
       "       [13.4 ,  4.6 ,  2.86],\n",
       "       [13.4 ,  3.91,  2.48],\n",
       "       [13.39,  1.77,  2.62],\n",
       "       [13.36,  2.56,  2.35],\n",
       "       [13.34,  0.94,  2.36],\n",
       "       [13.32,  3.24,  2.38],\n",
       "       [13.3 ,  1.72,  2.14],\n",
       "       [13.29,  1.97,  2.68],\n",
       "       [13.28,  1.64,  2.84],\n",
       "       [13.27,  4.28,  2.26],\n",
       "       [13.24,  3.98,  2.29],\n",
       "       [13.24,  2.59,  2.87],\n",
       "       [13.23,  3.3 ,  2.28],\n",
       "       [13.2 ,  1.78,  2.14],\n",
       "       [13.17,  5.19,  2.32],\n",
       "       [13.17,  2.59,  2.37],\n",
       "       [13.16,  2.36,  2.67],\n",
       "       [13.16,  3.57,  2.15],\n",
       "       [13.11,  1.9 ,  2.75],\n",
       "       [13.11,  1.01,  1.7 ],\n",
       "       [13.08,  3.9 ,  2.36],\n",
       "       [13.07,  1.5 ,  2.1 ],\n",
       "       [13.05,  1.73,  2.04],\n",
       "       [13.05,  1.65,  2.55],\n",
       "       [13.05,  3.86,  2.32],\n",
       "       [13.05,  2.05,  3.22],\n",
       "       [13.05,  1.77,  2.1 ],\n",
       "       [13.05,  5.8 ,  2.13],\n",
       "       [13.03,  0.9 ,  1.71],\n",
       "       [12.99,  1.67,  2.6 ],\n",
       "       [12.96,  3.45,  2.35],\n",
       "       [12.93,  2.81,  2.7 ],\n",
       "       [12.93,  3.8 ,  2.65],\n",
       "       [12.88,  2.99,  2.4 ],\n",
       "       [12.87,  4.61,  2.48],\n",
       "       [12.86,  1.35,  2.32],\n",
       "       [12.85,  3.27,  2.58],\n",
       "       [12.85,  1.6 ,  2.52],\n",
       "       [12.84,  2.96,  2.61],\n",
       "       [12.82,  3.37,  2.3 ],\n",
       "       [12.81,  2.31,  2.4 ],\n",
       "       [12.79,  2.67,  2.48],\n",
       "       [12.77,  3.43,  1.98],\n",
       "       [12.77,  2.39,  2.28],\n",
       "       [12.72,  1.81,  2.2 ],\n",
       "       [12.72,  1.75,  2.28],\n",
       "       [12.7 ,  3.55,  2.36],\n",
       "       [12.7 ,  3.87,  2.4 ],\n",
       "       [12.69,  1.53,  2.26],\n",
       "       [12.67,  0.98,  2.24],\n",
       "       [12.64,  1.36,  2.02],\n",
       "       [12.6 ,  1.34,  1.9 ],\n",
       "       [12.6 ,  2.46,  2.2 ],\n",
       "       [12.58,  1.29,  2.1 ],\n",
       "       [12.53,  5.51,  2.64],\n",
       "       [12.52,  2.43,  2.17],\n",
       "       [12.51,  1.24,  2.25],\n",
       "       [12.51,  1.73,  1.98],\n",
       "       [12.47,  1.52,  2.2 ],\n",
       "       [12.45,  3.03,  2.64],\n",
       "       [12.43,  1.53,  2.29],\n",
       "       [12.42,  1.61,  2.19],\n",
       "       [12.42,  4.43,  2.73],\n",
       "       [12.42,  2.55,  2.27],\n",
       "       [12.37,  0.94,  1.36],\n",
       "       [12.37,  1.63,  2.3 ],\n",
       "       [12.37,  1.07,  2.1 ],\n",
       "       [12.37,  1.13,  2.16],\n",
       "       [12.37,  1.21,  2.56],\n",
       "       [12.37,  1.17,  1.92],\n",
       "       [12.36,  3.83,  2.38],\n",
       "       [12.34,  2.45,  2.46],\n",
       "       [12.33,  0.99,  1.95],\n",
       "       [12.33,  1.1 ,  2.28],\n",
       "       [12.29,  3.17,  2.21],\n",
       "       [12.29,  2.83,  2.22],\n",
       "       [12.29,  1.61,  2.21],\n",
       "       [12.29,  1.41,  1.98],\n",
       "       [12.25,  1.73,  2.12],\n",
       "       [12.25,  4.72,  2.54],\n",
       "       [12.25,  3.88,  2.2 ],\n",
       "       [12.22,  1.29,  1.94],\n",
       "       [12.21,  1.19,  1.75],\n",
       "       [12.2 ,  3.03,  2.32],\n",
       "       [12.17,  1.45,  2.53],\n",
       "       [12.16,  1.61,  2.31],\n",
       "       [12.08,  2.08,  1.7 ],\n",
       "       [12.08,  1.83,  2.32],\n",
       "       [12.08,  1.33,  2.3 ],\n",
       "       [12.08,  1.39,  2.5 ],\n",
       "       [12.08,  1.13,  2.51],\n",
       "       [12.07,  2.16,  2.17],\n",
       "       [12.04,  4.3 ,  2.38],\n",
       "       [12.  ,  0.92,  2.  ],\n",
       "       [12.  ,  1.51,  2.42],\n",
       "       [12.  ,  3.43,  2.  ],\n",
       "       [11.96,  1.09,  2.3 ],\n",
       "       [11.87,  4.31,  2.39],\n",
       "       [11.84,  2.89,  2.23],\n",
       "       [11.84,  0.89,  2.58],\n",
       "       [11.82,  1.47,  1.99],\n",
       "       [11.82,  1.72,  1.88],\n",
       "       [11.81,  2.12,  2.74],\n",
       "       [11.79,  2.13,  2.78],\n",
       "       [11.76,  2.68,  2.92],\n",
       "       [11.66,  1.88,  1.92],\n",
       "       [11.65,  1.67,  2.62],\n",
       "       [11.64,  2.06,  2.46],\n",
       "       [11.62,  1.99,  2.28],\n",
       "       [11.61,  1.35,  2.7 ],\n",
       "       [11.56,  2.05,  3.23],\n",
       "       [11.46,  3.74,  1.82],\n",
       "       [11.45,  2.4 ,  2.42],\n",
       "       [11.41,  0.74,  2.5 ],\n",
       "       [11.03,  1.51,  2.2 ]])"
      ]
     },
     "execution_count": 46,
     "metadata": {},
     "output_type": "execute_result"
    }
   ],
   "source": [
    "wine_arr[ind][:,:3]   #sort on basis of a col alcohol"
   ]
  },
  {
   "cell_type": "code",
   "execution_count": 48,
   "id": "a366774d",
   "metadata": {},
   "outputs": [
    {
     "data": {
      "text/html": [
       "<div>\n",
       "<style scoped>\n",
       "    .dataframe tbody tr th:only-of-type {\n",
       "        vertical-align: middle;\n",
       "    }\n",
       "\n",
       "    .dataframe tbody tr th {\n",
       "        vertical-align: top;\n",
       "    }\n",
       "\n",
       "    .dataframe thead th {\n",
       "        text-align: right;\n",
       "    }\n",
       "</style>\n",
       "<table border=\"1\" class=\"dataframe\">\n",
       "  <thead>\n",
       "    <tr style=\"text-align: right;\">\n",
       "      <th></th>\n",
       "      <th>alcohol</th>\n",
       "      <th>malic_acid</th>\n",
       "      <th>ash</th>\n",
       "      <th>alcalinity_of_ash</th>\n",
       "      <th>magnesium</th>\n",
       "      <th>total_phenols</th>\n",
       "      <th>flavanoids</th>\n",
       "      <th>nonflavanoid_phenols</th>\n",
       "      <th>proanthocyanins</th>\n",
       "      <th>color_intensity</th>\n",
       "      <th>hue</th>\n",
       "      <th>od280/od315_of_diluted_wines</th>\n",
       "      <th>proline</th>\n",
       "    </tr>\n",
       "  </thead>\n",
       "  <tbody>\n",
       "    <tr>\n",
       "      <th>0</th>\n",
       "      <td>14.23</td>\n",
       "      <td>1.71</td>\n",
       "      <td>2.43</td>\n",
       "      <td>15.6</td>\n",
       "      <td>127.0</td>\n",
       "      <td>2.80</td>\n",
       "      <td>3.06</td>\n",
       "      <td>0.28</td>\n",
       "      <td>2.29</td>\n",
       "      <td>5.64</td>\n",
       "      <td>1.04</td>\n",
       "      <td>3.92</td>\n",
       "      <td>1065.0</td>\n",
       "    </tr>\n",
       "    <tr>\n",
       "      <th>1</th>\n",
       "      <td>13.20</td>\n",
       "      <td>1.78</td>\n",
       "      <td>2.14</td>\n",
       "      <td>11.2</td>\n",
       "      <td>100.0</td>\n",
       "      <td>2.65</td>\n",
       "      <td>2.76</td>\n",
       "      <td>0.26</td>\n",
       "      <td>1.28</td>\n",
       "      <td>4.38</td>\n",
       "      <td>1.05</td>\n",
       "      <td>3.40</td>\n",
       "      <td>1050.0</td>\n",
       "    </tr>\n",
       "    <tr>\n",
       "      <th>2</th>\n",
       "      <td>13.16</td>\n",
       "      <td>2.36</td>\n",
       "      <td>2.67</td>\n",
       "      <td>18.6</td>\n",
       "      <td>101.0</td>\n",
       "      <td>2.80</td>\n",
       "      <td>3.24</td>\n",
       "      <td>0.30</td>\n",
       "      <td>2.81</td>\n",
       "      <td>5.68</td>\n",
       "      <td>1.03</td>\n",
       "      <td>3.17</td>\n",
       "      <td>1185.0</td>\n",
       "    </tr>\n",
       "    <tr>\n",
       "      <th>3</th>\n",
       "      <td>14.37</td>\n",
       "      <td>1.95</td>\n",
       "      <td>2.50</td>\n",
       "      <td>16.8</td>\n",
       "      <td>113.0</td>\n",
       "      <td>3.85</td>\n",
       "      <td>3.49</td>\n",
       "      <td>0.24</td>\n",
       "      <td>2.18</td>\n",
       "      <td>7.80</td>\n",
       "      <td>0.86</td>\n",
       "      <td>3.45</td>\n",
       "      <td>1480.0</td>\n",
       "    </tr>\n",
       "    <tr>\n",
       "      <th>4</th>\n",
       "      <td>13.24</td>\n",
       "      <td>2.59</td>\n",
       "      <td>2.87</td>\n",
       "      <td>21.0</td>\n",
       "      <td>118.0</td>\n",
       "      <td>2.80</td>\n",
       "      <td>2.69</td>\n",
       "      <td>0.39</td>\n",
       "      <td>1.82</td>\n",
       "      <td>4.32</td>\n",
       "      <td>1.04</td>\n",
       "      <td>2.93</td>\n",
       "      <td>735.0</td>\n",
       "    </tr>\n",
       "  </tbody>\n",
       "</table>\n",
       "</div>"
      ],
      "text/plain": [
       "   alcohol  malic_acid   ash  alcalinity_of_ash  magnesium  total_phenols  \\\n",
       "0    14.23        1.71  2.43               15.6      127.0           2.80   \n",
       "1    13.20        1.78  2.14               11.2      100.0           2.65   \n",
       "2    13.16        2.36  2.67               18.6      101.0           2.80   \n",
       "3    14.37        1.95  2.50               16.8      113.0           3.85   \n",
       "4    13.24        2.59  2.87               21.0      118.0           2.80   \n",
       "\n",
       "   flavanoids  nonflavanoid_phenols  proanthocyanins  color_intensity   hue  \\\n",
       "0        3.06                  0.28             2.29             5.64  1.04   \n",
       "1        2.76                  0.26             1.28             4.38  1.05   \n",
       "2        3.24                  0.30             2.81             5.68  1.03   \n",
       "3        3.49                  0.24             2.18             7.80  0.86   \n",
       "4        2.69                  0.39             1.82             4.32  1.04   \n",
       "\n",
       "   od280/od315_of_diluted_wines  proline  \n",
       "0                          3.92   1065.0  \n",
       "1                          3.40   1050.0  \n",
       "2                          3.17   1185.0  \n",
       "3                          3.45   1480.0  \n",
       "4                          2.93    735.0  "
      ]
     },
     "execution_count": 48,
     "metadata": {},
     "output_type": "execute_result"
    }
   ],
   "source": [
    "import pandas as pd\n",
    "df = pd.DataFrame(wine_arr, columns= feature_names)\n",
    "df.head()"
   ]
  },
  {
   "cell_type": "code",
   "execution_count": 49,
   "id": "ec303aec",
   "metadata": {},
   "outputs": [
    {
     "data": {
      "text/plain": [
       "pandas.core.frame.DataFrame"
      ]
     },
     "execution_count": 49,
     "metadata": {},
     "output_type": "execute_result"
    }
   ],
   "source": [
    "type(df)"
   ]
  },
  {
   "cell_type": "code",
   "execution_count": 50,
   "id": "786a0008",
   "metadata": {},
   "outputs": [
    {
     "data": {
      "text/plain": [
       "array([[1.423e+01, 1.710e+00, 2.430e+00, ..., 1.040e+00, 3.920e+00,\n",
       "        1.065e+03],\n",
       "       [1.320e+01, 1.780e+00, 2.140e+00, ..., 1.050e+00, 3.400e+00,\n",
       "        1.050e+03],\n",
       "       [1.316e+01, 2.360e+00, 2.670e+00, ..., 1.030e+00, 3.170e+00,\n",
       "        1.185e+03],\n",
       "       ...,\n",
       "       [1.327e+01, 4.280e+00, 2.260e+00, ..., 5.900e-01, 1.560e+00,\n",
       "        8.350e+02],\n",
       "       [1.317e+01, 2.590e+00, 2.370e+00, ..., 6.000e-01, 1.620e+00,\n",
       "        8.400e+02],\n",
       "       [1.413e+01, 4.100e+00, 2.740e+00, ..., 6.100e-01, 1.600e+00,\n",
       "        5.600e+02]])"
      ]
     },
     "execution_count": 50,
     "metadata": {},
     "output_type": "execute_result"
    }
   ],
   "source": [
    "df.values    #numpy array"
   ]
  },
  {
   "cell_type": "code",
   "execution_count": 51,
   "id": "f699111d",
   "metadata": {},
   "outputs": [
    {
     "data": {
      "text/plain": [
       "array([14.23, 13.2 , 13.16, 14.37, 13.24, 14.2 , 14.39, 14.06, 14.83,\n",
       "       13.86, 14.1 , 14.12, 13.75, 14.75, 14.38, 13.63, 14.3 , 13.83,\n",
       "       14.19, 13.64, 14.06, 12.93, 13.71, 12.85, 13.5 , 13.05, 13.39,\n",
       "       13.3 , 13.87, 14.02, 13.73, 13.58, 13.68, 13.76, 13.51, 13.48,\n",
       "       13.28, 13.05, 13.07, 14.22, 13.56, 13.41, 13.88, 13.24, 13.05,\n",
       "       14.21, 14.38, 13.9 , 14.1 , 13.94, 13.05, 13.83, 13.82, 13.77,\n",
       "       13.74, 13.56, 14.22, 13.29, 13.72, 12.37, 12.33, 12.64, 13.67,\n",
       "       12.37, 12.17, 12.37, 13.11, 12.37, 13.34, 12.21, 12.29, 13.86,\n",
       "       13.49, 12.99, 11.96, 11.66, 13.03, 11.84, 12.33, 12.7 , 12.  ,\n",
       "       12.72, 12.08, 13.05, 11.84, 12.67, 12.16, 11.65, 11.64, 12.08,\n",
       "       12.08, 12.  , 12.69, 12.29, 11.62, 12.47, 11.81, 12.29, 12.37,\n",
       "       12.29, 12.08, 12.6 , 12.34, 11.82, 12.51, 12.42, 12.25, 12.72,\n",
       "       12.22, 11.61, 11.46, 12.52, 11.76, 11.41, 12.08, 11.03, 11.82,\n",
       "       12.42, 12.77, 12.  , 11.45, 11.56, 12.42, 13.05, 11.87, 12.07,\n",
       "       12.43, 11.79, 12.37, 12.04, 12.86, 12.88, 12.81, 12.7 , 12.51,\n",
       "       12.6 , 12.25, 12.53, 13.49, 12.84, 12.93, 13.36, 13.52, 13.62,\n",
       "       12.25, 13.16, 13.88, 12.87, 13.32, 13.08, 13.5 , 12.79, 13.11,\n",
       "       13.23, 12.58, 13.17, 13.84, 12.45, 14.34, 13.48, 12.36, 13.69,\n",
       "       12.85, 12.96, 13.78, 13.73, 13.45, 12.82, 13.58, 13.4 , 12.2 ,\n",
       "       12.77, 14.16, 13.71, 13.4 , 13.27, 13.17, 14.13])"
      ]
     },
     "execution_count": 51,
     "metadata": {},
     "output_type": "execute_result"
    }
   ],
   "source": [
    "df[\"alcohol\"].values"
   ]
  },
  {
   "cell_type": "code",
   "execution_count": 52,
   "id": "7978243b",
   "metadata": {},
   "outputs": [
    {
     "data": {
      "text/plain": [
       "array(['1', '2', 'a'], dtype='<U11')"
      ]
     },
     "execution_count": 52,
     "metadata": {},
     "output_type": "execute_result"
    }
   ],
   "source": [
    "#numpy is homogenous data\n",
    "#converts to least denomination data type=string\n",
    "arr=np.array([1,2,'a'])\n",
    "arr"
   ]
  },
  {
   "cell_type": "code",
   "execution_count": 53,
   "id": "702d6ecc",
   "metadata": {},
   "outputs": [
    {
     "data": {
      "text/plain": [
       "array(['1', '2', 'a', 'True'], dtype='<U11')"
      ]
     },
     "execution_count": 53,
     "metadata": {},
     "output_type": "execute_result"
    }
   ],
   "source": [
    "arr=np.array([1,2,'a',\"True\"])\n",
    "arr"
   ]
  },
  {
   "cell_type": "code",
   "execution_count": 54,
   "id": "bc3d3d18",
   "metadata": {},
   "outputs": [
    {
     "data": {
      "text/plain": [
       "array([ 1,  3,  5,  7,  9, 11, 13, 15, 17, 19, 21, 23, 25, 27, 29, 31, 33,\n",
       "       35, 37, 39, 41, 43, 45, 47, 49, 51, 53, 55, 57, 59, 61, 63, 65, 67,\n",
       "       69, 71, 73, 75, 77, 79, 81, 83, 85, 87, 89, 91, 93, 95, 97, 99])"
      ]
     },
     "execution_count": 54,
     "metadata": {},
     "output_type": "execute_result"
    }
   ],
   "source": [
    "np.arange(1,100,2)"
   ]
  },
  {
   "cell_type": "code",
   "execution_count": null,
   "id": "45045a5f",
   "metadata": {},
   "outputs": [],
   "source": [
    "np.linspace(1,100,10)"
   ]
  },
  {
   "cell_type": "code",
   "execution_count": 56,
   "id": "da7d0f2c",
   "metadata": {},
   "outputs": [],
   "source": [
    "from sklearn.datasets import load_digits\n",
    "data_dig = load_digits()\n",
    "digits_data = data_dig[\"data\"] "
   ]
  },
  {
   "cell_type": "code",
   "execution_count": 57,
   "id": "0a179749",
   "metadata": {},
   "outputs": [
    {
     "data": {
      "text/plain": [
       "(1797, 64)"
      ]
     },
     "execution_count": 57,
     "metadata": {},
     "output_type": "execute_result"
    }
   ],
   "source": [
    "digits_data.shape"
   ]
  },
  {
   "cell_type": "code",
   "execution_count": 58,
   "id": "879e173e",
   "metadata": {},
   "outputs": [
    {
     "data": {
      "text/plain": [
       "array([ 0.,  0.,  5., 13.,  9.,  1.,  0.,  0.,  0.,  0., 13., 15., 10.,\n",
       "       15.,  5.,  0.,  0.,  3., 15.,  2.,  0., 11.,  8.,  0.,  0.,  4.,\n",
       "       12.,  0.,  0.,  8.,  8.,  0.,  0.,  5.,  8.,  0.,  0.,  9.,  8.,\n",
       "        0.,  0.,  4., 11.,  0.,  1., 12.,  7.,  0.,  0.,  2., 14.,  5.,\n",
       "       10., 12.,  0.,  0.,  0.,  0.,  6., 13., 10.,  0.,  0.,  0.])"
      ]
     },
     "execution_count": 58,
     "metadata": {},
     "output_type": "execute_result"
    }
   ],
   "source": [
    "digits_data[0]"
   ]
  },
  {
   "cell_type": "code",
   "execution_count": 59,
   "id": "d1b0d310",
   "metadata": {},
   "outputs": [
    {
     "data": {
      "text/plain": [
       "array([[ 0.,  0.,  5., 13.,  9.,  1.,  0.,  0.],\n",
       "       [ 0.,  0., 13., 15., 10., 15.,  5.,  0.],\n",
       "       [ 0.,  3., 15.,  2.,  0., 11.,  8.,  0.],\n",
       "       [ 0.,  4., 12.,  0.,  0.,  8.,  8.,  0.],\n",
       "       [ 0.,  5.,  8.,  0.,  0.,  9.,  8.,  0.],\n",
       "       [ 0.,  4., 11.,  0.,  1., 12.,  7.,  0.],\n",
       "       [ 0.,  2., 14.,  5., 10., 12.,  0.,  0.],\n",
       "       [ 0.,  0.,  6., 13., 10.,  0.,  0.,  0.]])"
      ]
     },
     "execution_count": 59,
     "metadata": {},
     "output_type": "execute_result"
    }
   ],
   "source": [
    "np.reshape(digits_data[0],(8,8))"
   ]
  },
  {
   "cell_type": "code",
   "execution_count": 61,
   "id": "11696939",
   "metadata": {},
   "outputs": [
    {
     "data": {
      "text/plain": [
       "<matplotlib.image.AxesImage at 0x20717cc57c0>"
      ]
     },
     "execution_count": 61,
     "metadata": {},
     "output_type": "execute_result"
    },
    {
     "data": {
      "image/png": "[encoded data removed]",
      "text/plain": [
       "<Figure size 432x288 with 1 Axes>"
      ]
     },
     "metadata": {
      "needs_background": "light"
     },
     "output_type": "display_data"
    }
   ],
   "source": [
    "import matplotlib.pyplot as ply\n",
    "ply.imshow(np.reshape(digits_data[0],(8,8)))"
   ]
  },
  {
   "cell_type": "code",
   "execution_count": 62,
   "id": "a9ca5d31",
   "metadata": {},
   "outputs": [
    {
     "data": {
      "text/plain": [
       "<matplotlib.image.AxesImage at 0x20717dca670>"
      ]
     },
     "execution_count": 62,
     "metadata": {},
     "output_type": "execute_result"
    },
    {
     "data": {
      "image/png": "[encoded data removed]",
      "text/plain": [
       "<Figure size 432x288 with 1 Axes>"
      ]
     },
     "metadata": {
      "needs_background": "light"
     },
     "output_type": "display_data"
    }
   ],
   "source": [
    "import matplotlib.pyplot as ply\n",
    "ply.imshow(np.reshape(digits_data[0],(8,8)),cmap='gray')"
   ]
  },
  {
   "cell_type": "code",
   "execution_count": 63,
   "id": "d25d3f28",
   "metadata": {},
   "outputs": [],
   "source": [
    "imf_2d = np.reshape(digits_data[0],(8,8))"
   ]
  },
  {
   "cell_type": "code",
   "execution_count": 64,
   "id": "852ee495",
   "metadata": {},
   "outputs": [
    {
     "data": {
      "text/plain": [
       "array([ 0.,  0.,  5., 13.,  9.,  1.,  0.,  0.,  0.,  0., 13., 15., 10.,\n",
       "       15.,  5.,  0.,  0.,  3., 15.,  2.,  0., 11.,  8.,  0.,  0.,  4.,\n",
       "       12.,  0.,  0.,  8.,  8.,  0.,  0.,  5.,  8.,  0.,  0.,  9.,  8.,\n",
       "        0.,  0.,  4., 11.,  0.,  1., 12.,  7.,  0.,  0.,  2., 14.,  5.,\n",
       "       10., 12.,  0.,  0.,  0.,  0.,  6., 13., 10.,  0.,  0.,  0.])"
      ]
     },
     "execution_count": 64,
     "metadata": {},
     "output_type": "execute_result"
    }
   ],
   "source": [
    "imf_2d.flatten()"
   ]
  },
  {
   "cell_type": "code",
   "execution_count": null,
   "id": "d7741df7",
   "metadata": {},
   "outputs": [],
   "source": []
  },
  {
   "cell_type": "code",
   "execution_count": null,
   "id": "b6c27a1f",
   "metadata": {},
   "outputs": [],
   "source": []
  },
  {
   "cell_type": "code",
   "execution_count": null,
   "id": "aa537948",
   "metadata": {},
   "outputs": [],
   "source": []
  }
 ],
 "metadata": {
  "kernelspec": {
   "display_name": "Python 3 (ipykernel)",
   "language": "python",
   "name": "python3"
  },
  "language_info": {
   "codemirror_mode": {
    "name": "ipython",
    "version": 3
   },
   "file_extension": ".py",
   "mimetype": "text/x-python",
   "name": "python",
   "nbconvert_exporter": "python",
   "pygments_lexer": "ipython3",
   "version": "3.9.7"
  }
 },
 "nbformat": 4,
 "nbformat_minor": 5
}
