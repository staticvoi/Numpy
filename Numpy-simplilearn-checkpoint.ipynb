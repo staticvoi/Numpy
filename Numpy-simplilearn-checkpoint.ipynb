{
 "cells": [
  {
   "cell_type": "code",
   "execution_count": 117,
   "id": "664a0f2c",
   "metadata": {},
   "outputs": [],
   "source": [
    "import numpy as np"
   ]
  },
  {
   "cell_type": "code",
   "execution_count": 119,
   "id": "bdcabd33",
   "metadata": {},
   "outputs": [
    {
     "data": {
      "text/plain": [
       "array([0, 1, 2, 3, 4])"
      ]
     },
     "execution_count": 119,
     "metadata": {},
     "output_type": "execute_result"
    }
   ],
   "source": [
    "l=np.arange(5)\n",
    "l"
   ]
  },
  {
   "cell_type": "code",
   "execution_count": 121,
   "id": "a9a61436",
   "metadata": {},
   "outputs": [
    {
     "name": "stdout",
     "output_type": "stream",
     "text": [
      "['helloxyz' 'hiabc']\n"
     ]
    }
   ],
   "source": [
    "#concatenation\n",
    "print(np.char.add(['hello','hi'],['xyz','abc']))"
   ]
  },
  {
   "cell_type": "code",
   "execution_count": 123,
   "id": "254e9911",
   "metadata": {},
   "outputs": [
    {
     "name": "stdout",
     "output_type": "stream",
     "text": [
      "hello hello hello \n"
     ]
    }
   ],
   "source": [
    "print(np.char.multiply('hello ',3))"
   ]
  },
  {
   "cell_type": "code",
   "execution_count": 124,
   "id": "8f1fe7b0",
   "metadata": {},
   "outputs": [
    {
     "name": "stdout",
     "output_type": "stream",
     "text": [
      "-------hello -------\n"
     ]
    }
   ],
   "source": [
    "print(np.char.center('hello ',20,fillchar='-'))"
   ]
  },
  {
   "cell_type": "code",
   "execution_count": 125,
   "id": "ba64b619",
   "metadata": {},
   "outputs": [
    {
     "name": "stdout",
     "output_type": "stream",
     "text": [
      "Hello How Are You \n"
     ]
    }
   ],
   "source": [
    "print(np.char.title('hello how are you '))"
   ]
  },
  {
   "cell_type": "code",
   "execution_count": 126,
   "id": "2e4823fe",
   "metadata": {},
   "outputs": [
    {
     "name": "stdout",
     "output_type": "stream",
     "text": [
      "Hello world\n"
     ]
    }
   ],
   "source": [
    "print(np.char.capitalize('hello world'))"
   ]
  },
  {
   "cell_type": "code",
   "execution_count": 130,
   "id": "02fd54b6",
   "metadata": {},
   "outputs": [
    {
     "name": "stdout",
     "output_type": "stream",
     "text": [
      "helllloao\n",
      "['helllloao' 'jgdjkj']\n"
     ]
    }
   ],
   "source": [
    "print(np.char.lower('HELLLLOAO'))\n",
    "print(np.char.lower(['HELLLLOAO','JGDJKJ']))"
   ]
  },
  {
   "cell_type": "code",
   "execution_count": 129,
   "id": "0480cbb9",
   "metadata": {},
   "outputs": [
    {
     "name": "stdout",
     "output_type": "stream",
     "text": [
      "HELLO WORLD\n",
      "['HELLO WORLD' 'BABABS']\n"
     ]
    }
   ],
   "source": [
    "print(np.char.upper('hello world'))\n",
    "print(np.char.upper(['hello world','bababs']))"
   ]
  },
  {
   "cell_type": "code",
   "execution_count": 131,
   "id": "89431d90",
   "metadata": {},
   "outputs": [
    {
     "name": "stdout",
     "output_type": "stream",
     "text": [
      "['hello', 'world', 'why', 'are', 'so', 'cruel?']\n"
     ]
    }
   ],
   "source": [
    "print(np.char.split('hello world why are so cruel?'))"
   ]
  },
  {
   "cell_type": "code",
   "execution_count": 132,
   "id": "e93f662d",
   "metadata": {},
   "outputs": [
    {
     "name": "stdout",
     "output_type": "stream",
     "text": [
      "['hello world', 'why are so cruel?']\n"
     ]
    }
   ],
   "source": [
    "print(np.char.splitlines('hello world\\nwhy are so cruel?'))"
   ]
  },
  {
   "cell_type": "code",
   "execution_count": 134,
   "id": "64129136",
   "metadata": {},
   "outputs": [
    {
     "name": "stdout",
     "output_type": "stream",
     "text": [
      "['ello' 'world' 'why' 'are']\n"
     ]
    }
   ],
   "source": [
    "print(np.char.strip(['hello', 'hworld' ,'hwhy','hare'],'h'))"
   ]
  },
  {
   "cell_type": "code",
   "execution_count": 135,
   "id": "3de30631",
   "metadata": {},
   "outputs": [
    {
     "name": "stdout",
     "output_type": "stream",
     "text": [
      "['d:m:y' 'd-m-y']\n"
     ]
    }
   ],
   "source": [
    "print(np.char.join([':','-'],['dmy','dmy']))"
   ]
  },
  {
   "cell_type": "code",
   "execution_count": 136,
   "id": "0b0c0fcb",
   "metadata": {},
   "outputs": [
    {
     "name": "stdout",
     "output_type": "stream",
     "text": [
      "hello world what are so cruel?\n"
     ]
    }
   ],
   "source": [
    "print(np.char.replace('hello world why are so cruel?','why','what'))"
   ]
  },
  {
   "cell_type": "code",
   "execution_count": 138,
   "id": "b10aef57",
   "metadata": {},
   "outputs": [
    {
     "name": "stdout",
     "output_type": "stream",
     "text": [
      "[0 1 2 3 4 5 6 7 8]\n"
     ]
    }
   ],
   "source": [
    "a=np.arange(9)\n",
    "print(a)\n"
   ]
  },
  {
   "cell_type": "code",
   "execution_count": 140,
   "id": "b59abd2e",
   "metadata": {},
   "outputs": [
    {
     "name": "stdout",
     "output_type": "stream",
     "text": [
      "[[0 1 2]\n",
      " [3 4 5]\n",
      " [6 7 8]]\n"
     ]
    }
   ],
   "source": [
    "\n",
    "b=a.reshape(3,3)\n",
    "print(b)"
   ]
  },
  {
   "cell_type": "code",
   "execution_count": 141,
   "id": "4b367b45",
   "metadata": {},
   "outputs": [
    {
     "data": {
      "text/plain": [
       "array([0, 1, 2, 3, 4, 5, 6, 7, 8])"
      ]
     },
     "execution_count": 141,
     "metadata": {},
     "output_type": "execute_result"
    }
   ],
   "source": [
    "b.flatten()"
   ]
  },
  {
   "cell_type": "code",
   "execution_count": 143,
   "id": "0d68ac49",
   "metadata": {},
   "outputs": [
    {
     "data": {
      "text/plain": [
       "array([0, 3, 6, 1, 4, 7, 2, 5, 8])"
      ]
     },
     "execution_count": 143,
     "metadata": {},
     "output_type": "execute_result"
    }
   ],
   "source": [
    "b.flatten(order=\"F\")"
   ]
  },
  {
   "cell_type": "code",
   "execution_count": 144,
   "id": "6358160c",
   "metadata": {},
   "outputs": [
    {
     "data": {
      "text/plain": [
       "array([[0, 3, 6],\n",
       "       [1, 4, 7],\n",
       "       [2, 5, 8]])"
      ]
     },
     "execution_count": 144,
     "metadata": {},
     "output_type": "execute_result"
    }
   ],
   "source": [
    "np.transpose(b)"
   ]
  },
  {
   "cell_type": "code",
   "execution_count": 146,
   "id": "de057c13",
   "metadata": {},
   "outputs": [
    {
     "data": {
      "text/plain": [
       "array([[[0, 1],\n",
       "        [2, 3]],\n",
       "\n",
       "       [[4, 5],\n",
       "        [6, 7]]])"
      ]
     },
     "execution_count": 146,
     "metadata": {},
     "output_type": "execute_result"
    }
   ],
   "source": [
    "c=np.arange(8).reshape(2,2,2)\n",
    "c"
   ]
  },
  {
   "cell_type": "code",
   "execution_count": 147,
   "id": "a2e4bb87",
   "metadata": {},
   "outputs": [
    {
     "data": {
      "text/plain": [
       "array([[[0, 1],\n",
       "        [4, 5]],\n",
       "\n",
       "       [[2, 3],\n",
       "        [6, 7]]])"
      ]
     },
     "execution_count": 147,
     "metadata": {},
     "output_type": "execute_result"
    }
   ],
   "source": [
    "np.rollaxis(c,1)"
   ]
  },
  {
   "cell_type": "code",
   "execution_count": 148,
   "id": "805f4458",
   "metadata": {},
   "outputs": [
    {
     "data": {
      "text/plain": [
       "array([[[0, 2],\n",
       "        [4, 6]],\n",
       "\n",
       "       [[1, 3],\n",
       "        [5, 7]]])"
      ]
     },
     "execution_count": 148,
     "metadata": {},
     "output_type": "execute_result"
    }
   ],
   "source": [
    "np.rollaxis(c,2)"
   ]
  },
  {
   "cell_type": "code",
   "execution_count": 149,
   "id": "d76d0af1",
   "metadata": {},
   "outputs": [
    {
     "data": {
      "text/plain": [
       "array([[[0, 1],\n",
       "        [2, 3]],\n",
       "\n",
       "       [[4, 5],\n",
       "        [6, 7]]])"
      ]
     },
     "execution_count": 149,
     "metadata": {},
     "output_type": "execute_result"
    }
   ],
   "source": [
    "np.rollaxis(c,1,2)"
   ]
  },
  {
   "cell_type": "code",
   "execution_count": 150,
   "id": "1c7906d3",
   "metadata": {},
   "outputs": [
    {
     "data": {
      "text/plain": [
       "array([[[0, 2],\n",
       "        [1, 3]],\n",
       "\n",
       "       [[4, 6],\n",
       "        [5, 7]]])"
      ]
     },
     "execution_count": 150,
     "metadata": {},
     "output_type": "execute_result"
    }
   ],
   "source": [
    "np.swapaxes(c,1,2)"
   ]
  },
  {
   "cell_type": "code",
   "execution_count": null,
   "id": "b181773f",
   "metadata": {},
   "outputs": [],
   "source": [
    "np.add(c,b)\n",
    "np.multiply(c,b)\n",
    "np.divide(c,b)\n",
    "np.subtract(c,b)"
   ]
  },
  {
   "cell_type": "code",
   "execution_count": 154,
   "id": "06fed153",
   "metadata": {},
   "outputs": [
    {
     "data": {
      "text/plain": [
       "array([0, 1])"
      ]
     },
     "execution_count": 154,
     "metadata": {},
     "output_type": "execute_result"
    }
   ],
   "source": [
    "a[:2]"
   ]
  },
  {
   "cell_type": "code",
   "execution_count": 155,
   "id": "89cce4e6",
   "metadata": {},
   "outputs": [
    {
     "data": {
      "text/plain": [
       "array([2, 3, 4, 5, 6, 7, 8])"
      ]
     },
     "execution_count": 155,
     "metadata": {},
     "output_type": "execute_result"
    }
   ],
   "source": [
    "a[2:]"
   ]
  },
  {
   "cell_type": "code",
   "execution_count": 156,
   "id": "27fa2cdd",
   "metadata": {},
   "outputs": [
    {
     "data": {
      "text/plain": [
       "array([2, 4, 6, 8])"
      ]
     },
     "execution_count": 156,
     "metadata": {},
     "output_type": "execute_result"
    }
   ],
   "source": [
    "s=slice(2,9,2) #start end step\n",
    "a[s]"
   ]
  },
  {
   "cell_type": "code",
   "execution_count": 162,
   "id": "c148aec0",
   "metadata": {},
   "outputs": [
    {
     "name": "stdout",
     "output_type": "stream",
     "text": [
      "[[0 1]\n",
      " [2 3]]\n",
      "\n",
      "\n",
      "[[0 1]\n",
      " [2 3]]\n",
      "\n",
      "\n",
      "[[0 1]\n",
      " [2 3]\n",
      " [0 1]\n",
      " [2 3]]\n",
      "\n",
      "\n",
      "[[0 1 0 1]\n",
      " [2 3 2 3]]\n"
     ]
    }
   ],
   "source": [
    "a=np.arange(4).reshape(2,2)\n",
    "b=np.arange(4).reshape(2,2)\n",
    "print(a)\n",
    "print('\\n')\n",
    "print(b)\n",
    "print('\\n')\n",
    "print(np.concatenate((a,b))) #axis=0\n",
    "\n",
    "print('\\n')\n",
    "print(np.concatenate((a,b),axis=1)) #axis=1"
   ]
  },
  {
   "cell_type": "code",
   "execution_count": 164,
   "id": "5213294c",
   "metadata": {},
   "outputs": [
    {
     "name": "stdout",
     "output_type": "stream",
     "text": [
      "[0 1 2 3 4 5 6 7 8]\n"
     ]
    }
   ],
   "source": [
    "a=np.arange(9)\n",
    "print(a)"
   ]
  },
  {
   "cell_type": "code",
   "execution_count": 165,
   "id": "67b347a2",
   "metadata": {},
   "outputs": [
    {
     "name": "stdout",
     "output_type": "stream",
     "text": [
      "[array([0, 1, 2]), array([3, 4, 5]), array([6, 7, 8])]\n"
     ]
    }
   ],
   "source": [
    "print(np.split(a,3))"
   ]
  },
  {
   "cell_type": "code",
   "execution_count": 166,
   "id": "10dd27f2",
   "metadata": {},
   "outputs": [
    {
     "name": "stdout",
     "output_type": "stream",
     "text": [
      "[array([0, 1, 2, 3]), array([4]), array([5, 6, 7, 8])]\n"
     ]
    }
   ],
   "source": [
    "print(np.split(a,[4,5]))"
   ]
  },
  {
   "cell_type": "code",
   "execution_count": 167,
   "id": "5652731b",
   "metadata": {},
   "outputs": [
    {
     "name": "stdout",
     "output_type": "stream",
     "text": [
      "[array([0, 1, 2, 3]), array([4, 5, 6]), array([7, 8])]\n"
     ]
    }
   ],
   "source": [
    "print(np.split(a,[4,7]))"
   ]
  },
  {
   "cell_type": "code",
   "execution_count": 169,
   "id": "31d42eb6",
   "metadata": {},
   "outputs": [
    {
     "name": "stdout",
     "output_type": "stream",
     "text": [
      "[[0 1 2]\n",
      " [3 4 5]\n",
      " [6 7 8]]\n"
     ]
    }
   ],
   "source": [
    "print(np.resize(a,(3,3)))"
   ]
  },
  {
   "cell_type": "code",
   "execution_count": 170,
   "id": "adba2922",
   "metadata": {},
   "outputs": [
    {
     "name": "stdout",
     "output_type": "stream",
     "text": [
      "[[0 1 2 3]\n",
      " [4 5 6 7]\n",
      " [8 0 1 2]]\n"
     ]
    }
   ],
   "source": [
    "print(np.resize(a,(3,4))) #repeats data"
   ]
  },
  {
   "cell_type": "markdown",
   "id": "baa444e9",
   "metadata": {},
   "source": [
    "# histogram"
   ]
  },
  {
   "cell_type": "code",
   "execution_count": 171,
   "id": "feb90b58",
   "metadata": {},
   "outputs": [
    {
     "data": {
      "image/png": "[encoded data removed]",
      "text/plain": [
       "<Figure size 432x288 with 1 Axes>"
      ]
     },
     "metadata": {
      "needs_background": "light"
     },
     "output_type": "display_data"
    }
   ],
   "source": [
    "from matplotlib import pyplot as plt\n",
    "a=np.array([21,32,43,56,76,8,24,54])\n",
    "plt.hist(a,bins=[10,20,30,40,50])\n",
    "plt.title('histogram')\n",
    "plt.show()"
   ]
  },
  {
   "cell_type": "code",
   "execution_count": 173,
   "id": "a7fc6c7f",
   "metadata": {},
   "outputs": [
    {
     "data": {
      "text/plain": [
       "array([ 1.  ,  3.25,  5.5 ,  7.75, 10.  ])"
      ]
     },
     "execution_count": 173,
     "metadata": {},
     "output_type": "execute_result"
    }
   ],
   "source": [
    "#linspace\n",
    "a=np.linspace(1,10,5)\n",
    "a"
   ]
  },
  {
   "cell_type": "code",
   "execution_count": 175,
   "id": "b646bdf0",
   "metadata": {},
   "outputs": [
    {
     "name": "stdout",
     "output_type": "stream",
     "text": [
      "[ 6 15]\n"
     ]
    }
   ],
   "source": [
    "a=np.array([(1,2,3),(4,5,6)])\n",
    "print(a.sum(axis=1))  #1+2+3=6"
   ]
  },
  {
   "cell_type": "code",
   "execution_count": 176,
   "id": "cb5fa9e3",
   "metadata": {},
   "outputs": [
    {
     "name": "stdout",
     "output_type": "stream",
     "text": [
      "[5 7 9]\n"
     ]
    }
   ],
   "source": [
    "a=np.array([(1,2,3),(4,5,6)])\n",
    "print(a.sum(axis=0))"
   ]
  },
  {
   "cell_type": "code",
   "execution_count": 177,
   "id": "114979f2",
   "metadata": {},
   "outputs": [
    {
     "name": "stdout",
     "output_type": "stream",
     "text": [
      "[[1.         1.41421356 1.73205081]\n",
      " [2.         2.23606798 2.44948974]]\n",
      "1.707825127659933\n"
     ]
    }
   ],
   "source": [
    "a=np.array([(1,2,3),(4,5,6)])\n",
    "print(np.sqrt(a))\n",
    "print(np.std(a))"
   ]
  },
  {
   "cell_type": "code",
   "execution_count": 178,
   "id": "86506b11",
   "metadata": {},
   "outputs": [
    {
     "name": "stdout",
     "output_type": "stream",
     "text": [
      "[1 2 3 4 5 6]\n"
     ]
    }
   ],
   "source": [
    "print(a.ravel())  #similar to flat"
   ]
  },
  {
   "cell_type": "code",
   "execution_count": 179,
   "id": "6e54648e",
   "metadata": {},
   "outputs": [
    {
     "name": "stdout",
     "output_type": "stream",
     "text": [
      "[[0.         0.30103    0.47712125]\n",
      " [0.60205999 0.69897    0.77815125]]\n"
     ]
    }
   ],
   "source": [
    "print(np.log10(a))"
   ]
  },
  {
   "cell_type": "code",
   "execution_count": null,
   "id": "62d3c678",
   "metadata": {},
   "outputs": [],
   "source": [
    "print(np.log2(a))"
   ]
  },
  {
   "cell_type": "code",
   "execution_count": 180,
   "id": "32a55bce",
   "metadata": {},
   "outputs": [
    {
     "data": {
      "image/png": "[encoded data removed]",
      "text/plain": [
       "<Figure size 432x288 with 1 Axes>"
      ]
     },
     "metadata": {
      "needs_background": "light"
     },
     "output_type": "display_data"
    }
   ],
   "source": [
    "from matplotlib import pyplot as plt\n",
    "x=np.arange(0 , 3*np.pi, 0.1)\n",
    "y=np.sin(x)\n",
    "plt.plot(x,y)\n",
    "plt.title('histogram')\n",
    "plt.show()"
   ]
  },
  {
   "cell_type": "code",
   "execution_count": 184,
   "id": "b121dbb7",
   "metadata": {},
   "outputs": [
    {
     "data": {
      "text/plain": [
       "array([[0, 1, 0, 1, 0, 1],\n",
       "       [1, 0, 1, 0, 1, 0],\n",
       "       [0, 1, 0, 1, 0, 1],\n",
       "       [1, 0, 1, 0, 1, 0],\n",
       "       [0, 1, 0, 1, 0, 1],\n",
       "       [1, 0, 1, 0, 1, 0]])"
      ]
     },
     "execution_count": 184,
     "metadata": {},
     "output_type": "execute_result"
    }
   ],
   "source": [
    "z=np.zeros((6,6),dtype='int32')\n",
    "z[1::2,::2]=1\n",
    "z[::2,1::2]=1\n",
    "z"
   ]
  },
  {
   "cell_type": "code",
   "execution_count": 185,
   "id": "7243c3c1",
   "metadata": {},
   "outputs": [
    {
     "data": {
      "text/plain": [
       "array([[0.43823814, 0.63610717, 0.50669896, 0.66467383, 0.30344618,\n",
       "        0.11296189, 0.80459174, 0.58441132, 0.89837101, 0.79922662],\n",
       "       [0.39000953, 0.50255326, 0.73575595, 0.17600812, 0.53620732,\n",
       "        0.8852674 , 0.7552358 , 0.34782213, 0.90154945, 0.21206498],\n",
       "       [0.48817746, 0.05990226, 0.16271434, 0.79185071, 0.54830304,\n",
       "        0.49806267, 0.64387441, 0.70115728, 0.25711986, 0.25466463],\n",
       "       [       nan, 0.87475606,        nan, 0.41011532, 0.88006794,\n",
       "        0.65515729, 0.73207409, 0.67217467, 0.82953647, 0.0715352 ],\n",
       "       [0.58369835, 0.83211718, 0.62584543, 0.82927081, 0.71516615,\n",
       "        0.0161672 , 0.77879322, 0.95004985, 0.69761485, 0.41684952],\n",
       "       [0.87535128, 0.00329247, 0.52580322, 0.2025178 , 0.93533429,\n",
       "        0.55590403,        nan, 0.31699957, 0.0960409 , 0.887772  ],\n",
       "       [       nan, 0.95926745, 0.01657407, 0.87797375, 0.09053154,\n",
       "        0.08612405, 0.30675322, 0.91836906, 0.05450409, 0.31535067],\n",
       "       [0.02997658, 0.58259046, 0.33913505, 0.06607533, 0.04780884,\n",
       "        0.28752741,        nan, 0.44154892, 0.31153756, 0.13811082],\n",
       "       [0.87833616, 0.72880107, 0.07634322, 0.13033028, 0.03713488,\n",
       "        0.52391161, 0.75771124, 0.96723339, 0.49266598, 0.5005699 ],\n",
       "       [0.52872066, 0.49056201, 0.04804119, 0.90898663, 0.02124085,\n",
       "        0.40429473, 0.68989381, 0.02371874, 0.52624245, 0.96826059]])"
      ]
     },
     "execution_count": 185,
     "metadata": {},
     "output_type": "execute_result"
    }
   ],
   "source": [
    "w=np.random.rand(10,10)\n",
    "w[np.random.randint(10,size=5) , np.random.randint(10,size=5)]=np.nan\n",
    "w"
   ]
  },
  {
   "cell_type": "code",
   "execution_count": 186,
   "id": "60f583cf",
   "metadata": {},
   "outputs": [
    {
     "name": "stdout",
     "output_type": "stream",
     "text": [
      "total no of missing values:  5\n",
      "index of missing values:  [[3 0]\n",
      " [3 2]\n",
      " [5 6]\n",
      " [6 0]\n",
      " [7 6]]\n"
     ]
    }
   ],
   "source": [
    "print(\"total no of missing values: \",np.isnan(w).sum())\n",
    "print(\"index of missing values: \",np.argwhere(np.isnan(w)))"
   ]
  },
  {
   "cell_type": "code",
   "execution_count": 187,
   "id": "83b1de44",
   "metadata": {},
   "outputs": [
    {
     "name": "stdout",
     "output_type": "stream",
     "text": [
      "(array([3, 3, 5, 6, 7], dtype=int64), array([0, 2, 6, 0, 6], dtype=int64))\n"
     ]
    }
   ],
   "source": [
    "inds=np.where(np.isnan(w))\n",
    "print(inds)"
   ]
  },
  {
   "cell_type": "code",
   "execution_count": 188,
   "id": "a3c68e71",
   "metadata": {},
   "outputs": [
    {
     "data": {
      "text/plain": [
       "array([[0.43823814, 0.63610717, 0.50669896, 0.66467383, 0.30344618,\n",
       "        0.11296189, 0.80459174, 0.58441132, 0.89837101, 0.79922662],\n",
       "       [0.39000953, 0.50255326, 0.73575595, 0.17600812, 0.53620732,\n",
       "        0.8852674 , 0.7552358 , 0.34782213, 0.90154945, 0.21206498],\n",
       "       [0.48817746, 0.05990226, 0.16271434, 0.79185071, 0.54830304,\n",
       "        0.49806267, 0.64387441, 0.70115728, 0.25711986, 0.25466463],\n",
       "       [0.        , 0.87475606, 0.        , 0.41011532, 0.88006794,\n",
       "        0.65515729, 0.73207409, 0.67217467, 0.82953647, 0.0715352 ],\n",
       "       [0.58369835, 0.83211718, 0.62584543, 0.82927081, 0.71516615,\n",
       "        0.0161672 , 0.77879322, 0.95004985, 0.69761485, 0.41684952],\n",
       "       [0.87535128, 0.00329247, 0.52580322, 0.2025178 , 0.93533429,\n",
       "        0.55590403, 0.        , 0.31699957, 0.0960409 , 0.887772  ],\n",
       "       [0.        , 0.95926745, 0.01657407, 0.87797375, 0.09053154,\n",
       "        0.08612405, 0.30675322, 0.91836906, 0.05450409, 0.31535067],\n",
       "       [0.02997658, 0.58259046, 0.33913505, 0.06607533, 0.04780884,\n",
       "        0.28752741, 0.        , 0.44154892, 0.31153756, 0.13811082],\n",
       "       [0.87833616, 0.72880107, 0.07634322, 0.13033028, 0.03713488,\n",
       "        0.52391161, 0.75771124, 0.96723339, 0.49266598, 0.5005699 ],\n",
       "       [0.52872066, 0.49056201, 0.04804119, 0.90898663, 0.02124085,\n",
       "        0.40429473, 0.68989381, 0.02371874, 0.52624245, 0.96826059]])"
      ]
     },
     "execution_count": 188,
     "metadata": {},
     "output_type": "execute_result"
    }
   ],
   "source": [
    "w[inds]=0\n",
    "w"
   ]
  },
  {
   "cell_type": "code",
   "execution_count": null,
   "id": "ed3a5a0a",
   "metadata": {},
   "outputs": [],
   "source": []
  }
 ],
 "metadata": {
  "kernelspec": {
   "display_name": "Python 3 (ipykernel)",
   "language": "python",
   "name": "python3"
  },
  "language_info": {
   "codemirror_mode": {
    "name": "ipython",
    "version": 3
   },
   "file_extension": ".py",
   "mimetype": "text/x-python",
   "name": "python",
   "nbconvert_exporter": "python",
   "pygments_lexer": "ipython3",
   "version": "3.9.7"
  }
 },
 "nbformat": 4,
 "nbformat_minor": 5
}
